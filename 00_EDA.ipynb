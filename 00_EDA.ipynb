{
 "cells": [
  {
   "cell_type": "code",
   "execution_count": 1,
   "metadata": {},
   "outputs": [
    {
     "name": "stderr",
     "output_type": "stream",
     "text": [
      "c:\\Users\\ASUS\\.conda\\envs\\mlops\\Lib\\site-packages\\tqdm\\auto.py:21: TqdmWarning: IProgress not found. Please update jupyter and ipywidgets. See https://ipywidgets.readthedocs.io/en/stable/user_install.html\n",
      "  from .autonotebook import tqdm as notebook_tqdm\n"
     ]
    }
   ],
   "source": [
    "#Import Libraries\n",
    "import gc\n",
    "import shutil\n",
    "import pandas as pd\n",
    "import numpy as np\n",
    "from scipy import stats\n",
    "from sklearn.model_selection import train_test_split, StratifiedKFold\n",
    "from sklearn.preprocessing import StandardScaler, MinMaxScaler\n",
    "from sklearn.preprocessing import LabelEncoder\n",
    "from sklearn.decomposition import PCA\n",
    "from sklearn.feature_selection import SelectKBest, f_classif, chi2\n",
    "from sklearn.linear_model import LogisticRegression\n",
    "from sklearn.discriminant_analysis import QuadraticDiscriminantAnalysis as QDA\n",
    "from sklearn.neural_network import MLPClassifier\n",
    "from sklearn.ensemble import RandomForestClassifier, BaggingClassifier, GradientBoostingClassifier, AdaBoostClassifier\n",
    "from sklearn.svm import SVC\n",
    "from sklearn.neighbors import KNeighborsClassifier\n",
    "import xgboost as xgb\n",
    "from sklearn.metrics import classification_report\n",
    "import optuna\n",
    "from sklearn.metrics import accuracy_score, classification_report, roc_auc_score, roc_curve, auc, confusion_matrix\n",
    "import matplotlib.pyplot as plt\n",
    "import seaborn as sns\n",
    "from scipy.stats import ttest_ind\n",
    "import warnings\n",
    "warnings.filterwarnings(\"ignore\")"
   ]
  },
  {
   "cell_type": "code",
   "execution_count": 2,
   "metadata": {},
   "outputs": [
    {
     "data": {
      "text/html": [
       "<div>\n",
       "<style scoped>\n",
       "    .dataframe tbody tr th:only-of-type {\n",
       "        vertical-align: middle;\n",
       "    }\n",
       "\n",
       "    .dataframe tbody tr th {\n",
       "        vertical-align: top;\n",
       "    }\n",
       "\n",
       "    .dataframe thead th {\n",
       "        text-align: right;\n",
       "    }\n",
       "</style>\n",
       "<table border=\"1\" class=\"dataframe\">\n",
       "  <thead>\n",
       "    <tr style=\"text-align: right;\">\n",
       "      <th></th>\n",
       "      <th>id</th>\n",
       "      <th>Unnamed: 0.1</th>\n",
       "      <th>entity_type</th>\n",
       "      <th>entity_id</th>\n",
       "      <th>parent_id</th>\n",
       "      <th>name</th>\n",
       "      <th>normalized_name</th>\n",
       "      <th>permalink</th>\n",
       "      <th>category_code</th>\n",
       "      <th>status</th>\n",
       "      <th>...</th>\n",
       "      <th>first_milestone_at</th>\n",
       "      <th>last_milestone_at</th>\n",
       "      <th>milestones</th>\n",
       "      <th>relationships</th>\n",
       "      <th>created_by</th>\n",
       "      <th>created_at</th>\n",
       "      <th>updated_at</th>\n",
       "      <th>lat</th>\n",
       "      <th>lng</th>\n",
       "      <th>ROI</th>\n",
       "    </tr>\n",
       "  </thead>\n",
       "  <tbody>\n",
       "    <tr>\n",
       "      <th>0</th>\n",
       "      <td>c:1</td>\n",
       "      <td>0</td>\n",
       "      <td>Company</td>\n",
       "      <td>1</td>\n",
       "      <td>NaN</td>\n",
       "      <td>Wetpaint</td>\n",
       "      <td>wetpaint</td>\n",
       "      <td>/company/wetpaint</td>\n",
       "      <td>web</td>\n",
       "      <td>operating</td>\n",
       "      <td>...</td>\n",
       "      <td>2010-09-05</td>\n",
       "      <td>2013-09-18</td>\n",
       "      <td>5.0</td>\n",
       "      <td>17.0</td>\n",
       "      <td>initial-importer</td>\n",
       "      <td>2007-05-25 06:51:27</td>\n",
       "      <td>2013-04-13 03:29:00</td>\n",
       "      <td>47.606209</td>\n",
       "      <td>-122.332071</td>\n",
       "      <td>15.5</td>\n",
       "    </tr>\n",
       "    <tr>\n",
       "      <th>1</th>\n",
       "      <td>c:10</td>\n",
       "      <td>1</td>\n",
       "      <td>Company</td>\n",
       "      <td>10</td>\n",
       "      <td>NaN</td>\n",
       "      <td>Flektor</td>\n",
       "      <td>flektor</td>\n",
       "      <td>/company/flektor</td>\n",
       "      <td>games_video</td>\n",
       "      <td>acquired</td>\n",
       "      <td>...</td>\n",
       "      <td>NaN</td>\n",
       "      <td>NaN</td>\n",
       "      <td>NaN</td>\n",
       "      <td>6.0</td>\n",
       "      <td>initial-importer</td>\n",
       "      <td>2007-05-31 21:11:51</td>\n",
       "      <td>2008-05-23 23:23:14</td>\n",
       "      <td>34.021122</td>\n",
       "      <td>-118.396467</td>\n",
       "      <td>NaN</td>\n",
       "    </tr>\n",
       "    <tr>\n",
       "      <th>2</th>\n",
       "      <td>c:100</td>\n",
       "      <td>2</td>\n",
       "      <td>Company</td>\n",
       "      <td>100</td>\n",
       "      <td>NaN</td>\n",
       "      <td>There</td>\n",
       "      <td>there</td>\n",
       "      <td>/company/there</td>\n",
       "      <td>games_video</td>\n",
       "      <td>acquired</td>\n",
       "      <td>...</td>\n",
       "      <td>2003-02-01</td>\n",
       "      <td>2011-09-23</td>\n",
       "      <td>4.0</td>\n",
       "      <td>12.0</td>\n",
       "      <td>initial-importer</td>\n",
       "      <td>2007-08-06 23:52:45</td>\n",
       "      <td>2013-11-04 02:09:48</td>\n",
       "      <td>37.562992</td>\n",
       "      <td>-122.325525</td>\n",
       "      <td>NaN</td>\n",
       "    </tr>\n",
       "    <tr>\n",
       "      <th>3</th>\n",
       "      <td>c:10000</td>\n",
       "      <td>3</td>\n",
       "      <td>Company</td>\n",
       "      <td>10000</td>\n",
       "      <td>NaN</td>\n",
       "      <td>MYWEBBO</td>\n",
       "      <td>mywebbo</td>\n",
       "      <td>/company/mywebbo</td>\n",
       "      <td>network_hosting</td>\n",
       "      <td>operating</td>\n",
       "      <td>...</td>\n",
       "      <td>NaN</td>\n",
       "      <td>NaN</td>\n",
       "      <td>NaN</td>\n",
       "      <td>NaN</td>\n",
       "      <td>NaN</td>\n",
       "      <td>2008-08-24 16:51:57</td>\n",
       "      <td>2008-09-06 14:19:18</td>\n",
       "      <td>NaN</td>\n",
       "      <td>NaN</td>\n",
       "      <td>NaN</td>\n",
       "    </tr>\n",
       "    <tr>\n",
       "      <th>4</th>\n",
       "      <td>c:10001</td>\n",
       "      <td>4</td>\n",
       "      <td>Company</td>\n",
       "      <td>10001</td>\n",
       "      <td>NaN</td>\n",
       "      <td>THE Movie Streamer</td>\n",
       "      <td>the movie streamer</td>\n",
       "      <td>/company/the-movie-streamer</td>\n",
       "      <td>games_video</td>\n",
       "      <td>operating</td>\n",
       "      <td>...</td>\n",
       "      <td>NaN</td>\n",
       "      <td>NaN</td>\n",
       "      <td>NaN</td>\n",
       "      <td>NaN</td>\n",
       "      <td>NaN</td>\n",
       "      <td>2008-08-24 17:10:34</td>\n",
       "      <td>2008-09-06 14:19:18</td>\n",
       "      <td>NaN</td>\n",
       "      <td>NaN</td>\n",
       "      <td>NaN</td>\n",
       "    </tr>\n",
       "  </tbody>\n",
       "</table>\n",
       "<p>5 rows × 44 columns</p>\n",
       "</div>"
      ],
      "text/plain": [
       "        id  Unnamed: 0.1 entity_type  entity_id  parent_id  \\\n",
       "0      c:1             0     Company          1        NaN   \n",
       "1     c:10             1     Company         10        NaN   \n",
       "2    c:100             2     Company        100        NaN   \n",
       "3  c:10000             3     Company      10000        NaN   \n",
       "4  c:10001             4     Company      10001        NaN   \n",
       "\n",
       "                 name     normalized_name                    permalink  \\\n",
       "0            Wetpaint            wetpaint            /company/wetpaint   \n",
       "1             Flektor             flektor             /company/flektor   \n",
       "2               There               there               /company/there   \n",
       "3             MYWEBBO             mywebbo             /company/mywebbo   \n",
       "4  THE Movie Streamer  the movie streamer  /company/the-movie-streamer   \n",
       "\n",
       "     category_code     status  ... first_milestone_at last_milestone_at  \\\n",
       "0              web  operating  ...         2010-09-05        2013-09-18   \n",
       "1      games_video   acquired  ...                NaN               NaN   \n",
       "2      games_video   acquired  ...         2003-02-01        2011-09-23   \n",
       "3  network_hosting  operating  ...                NaN               NaN   \n",
       "4      games_video  operating  ...                NaN               NaN   \n",
       "\n",
       "  milestones relationships        created_by           created_at  \\\n",
       "0        5.0          17.0  initial-importer  2007-05-25 06:51:27   \n",
       "1        NaN           6.0  initial-importer  2007-05-31 21:11:51   \n",
       "2        4.0          12.0  initial-importer  2007-08-06 23:52:45   \n",
       "3        NaN           NaN               NaN  2008-08-24 16:51:57   \n",
       "4        NaN           NaN               NaN  2008-08-24 17:10:34   \n",
       "\n",
       "            updated_at        lat         lng   ROI  \n",
       "0  2013-04-13 03:29:00  47.606209 -122.332071  15.5  \n",
       "1  2008-05-23 23:23:14  34.021122 -118.396467   NaN  \n",
       "2  2013-11-04 02:09:48  37.562992 -122.325525   NaN  \n",
       "3  2008-09-06 14:19:18        NaN         NaN   NaN  \n",
       "4  2008-09-06 14:19:18        NaN         NaN   NaN  \n",
       "\n",
       "[5 rows x 44 columns]"
      ]
     },
     "execution_count": 2,
     "metadata": {},
     "output_type": "execute_result"
    }
   ],
   "source": [
    "df = pd.read_csv(r'D:\\Work Station\\startups\\data\\companies.csv')\n",
    "df.head()"
   ]
  },
  {
   "cell_type": "code",
   "execution_count": 3,
   "metadata": {},
   "outputs": [
    {
     "name": "stdout",
     "output_type": "stream",
     "text": [
      "<class 'pandas.core.frame.DataFrame'>\n",
      "RangeIndex: 196553 entries, 0 to 196552\n",
      "Data columns (total 44 columns):\n",
      " #   Column               Non-Null Count   Dtype  \n",
      "---  ------               --------------   -----  \n",
      " 0   id                   196553 non-null  object \n",
      " 1   Unnamed: 0.1         196553 non-null  int64  \n",
      " 2   entity_type          196553 non-null  object \n",
      " 3   entity_id            196553 non-null  int64  \n",
      " 4   parent_id            0 non-null       float64\n",
      " 5   name                 196530 non-null  object \n",
      " 6   normalized_name      196527 non-null  object \n",
      " 7   permalink            196553 non-null  object \n",
      " 8   category_code        123186 non-null  object \n",
      " 9   status               196553 non-null  object \n",
      " 10  founded_at           91227 non-null   object \n",
      " 11  closed_at            2620 non-null    object \n",
      " 12  domain               126545 non-null  object \n",
      " 13  homepage_url         126545 non-null  object \n",
      " 14  twitter_username     80591 non-null   object \n",
      " 15  logo_url             110110 non-null  object \n",
      " 16  logo_width           110110 non-null  float64\n",
      " 17  logo_height          110110 non-null  float64\n",
      " 18  short_description    7131 non-null    object \n",
      " 19  description          92048 non-null   object \n",
      " 20  overview             126971 non-null  object \n",
      " 21  tag_list             81452 non-null   object \n",
      " 22  country_code         87990 non-null   object \n",
      " 23  state_code           50903 non-null   object \n",
      " 24  city                 83890 non-null   object \n",
      " 25  region               196553 non-null  object \n",
      " 26  first_investment_at  2583 non-null    object \n",
      " 27  last_investment_at   2583 non-null    object \n",
      " 28  investment_rounds    2591 non-null    float64\n",
      " 29  invested_companies   2591 non-null    float64\n",
      " 30  first_funding_at     31507 non-null   object \n",
      " 31  last_funding_at      31507 non-null   object \n",
      " 32  funding_rounds       31707 non-null   float64\n",
      " 33  funding_total_usd    27874 non-null   float64\n",
      " 34  first_milestone_at   91699 non-null   object \n",
      " 35  last_milestone_at    91699 non-null   object \n",
      " 36  milestones           91699 non-null   float64\n",
      " 37  relationships        129667 non-null  float64\n",
      " 38  created_by           155533 non-null  object \n",
      " 39  created_at           196553 non-null  object \n",
      " 40  updated_at           196553 non-null  object \n",
      " 41  lat                  83852 non-null   float64\n",
      " 42  lng                  83852 non-null   float64\n",
      " 43  ROI                  726 non-null     float64\n",
      "dtypes: float64(12), int64(2), object(30)\n",
      "memory usage: 66.0+ MB\n"
     ]
    }
   ],
   "source": [
    "df.info()"
   ]
  },
  {
   "cell_type": "code",
   "execution_count": 4,
   "metadata": {},
   "outputs": [
    {
     "data": {
      "text/html": [
       "<div>\n",
       "<style scoped>\n",
       "    .dataframe tbody tr th:only-of-type {\n",
       "        vertical-align: middle;\n",
       "    }\n",
       "\n",
       "    .dataframe tbody tr th {\n",
       "        vertical-align: top;\n",
       "    }\n",
       "\n",
       "    .dataframe thead th {\n",
       "        text-align: right;\n",
       "    }\n",
       "</style>\n",
       "<table border=\"1\" class=\"dataframe\">\n",
       "  <thead>\n",
       "    <tr style=\"text-align: right;\">\n",
       "      <th></th>\n",
       "      <th>Unnamed: 0.1</th>\n",
       "      <th>entity_id</th>\n",
       "      <th>parent_id</th>\n",
       "      <th>logo_width</th>\n",
       "      <th>logo_height</th>\n",
       "      <th>investment_rounds</th>\n",
       "      <th>invested_companies</th>\n",
       "      <th>funding_rounds</th>\n",
       "      <th>funding_total_usd</th>\n",
       "      <th>milestones</th>\n",
       "      <th>relationships</th>\n",
       "      <th>lat</th>\n",
       "      <th>lng</th>\n",
       "      <th>ROI</th>\n",
       "    </tr>\n",
       "  </thead>\n",
       "  <tbody>\n",
       "    <tr>\n",
       "      <th>count</th>\n",
       "      <td>196553.000000</td>\n",
       "      <td>196553.000000</td>\n",
       "      <td>0.0</td>\n",
       "      <td>110110.000000</td>\n",
       "      <td>110110.000000</td>\n",
       "      <td>2591.000000</td>\n",
       "      <td>2591.000000</td>\n",
       "      <td>31707.000000</td>\n",
       "      <td>2.787400e+04</td>\n",
       "      <td>91699.000000</td>\n",
       "      <td>129667.000000</td>\n",
       "      <td>83852.000000</td>\n",
       "      <td>83852.000000</td>\n",
       "      <td>726.000000</td>\n",
       "    </tr>\n",
       "    <tr>\n",
       "      <th>mean</th>\n",
       "      <td>98276.000000</td>\n",
       "      <td>153006.227333</td>\n",
       "      <td>NaN</td>\n",
       "      <td>459.132685</td>\n",
       "      <td>222.728917</td>\n",
       "      <td>2.372057</td>\n",
       "      <td>2.204940</td>\n",
       "      <td>1.659760</td>\n",
       "      <td>1.481652e+07</td>\n",
       "      <td>1.199402</td>\n",
       "      <td>2.852067</td>\n",
       "      <td>37.564512</td>\n",
       "      <td>-52.123066</td>\n",
       "      <td>45.745037</td>\n",
       "    </tr>\n",
       "    <tr>\n",
       "      <th>std</th>\n",
       "      <td>56740.108067</td>\n",
       "      <td>90209.250941</td>\n",
       "      <td>NaN</td>\n",
       "      <td>594.982577</td>\n",
       "      <td>333.090722</td>\n",
       "      <td>12.173510</td>\n",
       "      <td>11.436955</td>\n",
       "      <td>1.201666</td>\n",
       "      <td>6.775937e+07</td>\n",
       "      <td>0.540099</td>\n",
       "      <td>9.100309</td>\n",
       "      <td>15.477102</td>\n",
       "      <td>70.049067</td>\n",
       "      <td>572.035638</td>\n",
       "    </tr>\n",
       "    <tr>\n",
       "      <th>min</th>\n",
       "      <td>0.000000</td>\n",
       "      <td>1.000000</td>\n",
       "      <td>NaN</td>\n",
       "      <td>1.000000</td>\n",
       "      <td>1.000000</td>\n",
       "      <td>1.000000</td>\n",
       "      <td>1.000000</td>\n",
       "      <td>1.000000</td>\n",
       "      <td>2.910000e+02</td>\n",
       "      <td>1.000000</td>\n",
       "      <td>1.000000</td>\n",
       "      <td>-50.942326</td>\n",
       "      <td>-159.497746</td>\n",
       "      <td>0.011111</td>\n",
       "    </tr>\n",
       "    <tr>\n",
       "      <th>25%</th>\n",
       "      <td>49138.000000</td>\n",
       "      <td>59850.000000</td>\n",
       "      <td>NaN</td>\n",
       "      <td>192.000000</td>\n",
       "      <td>70.000000</td>\n",
       "      <td>1.000000</td>\n",
       "      <td>1.000000</td>\n",
       "      <td>1.000000</td>\n",
       "      <td>5.000000e+05</td>\n",
       "      <td>1.000000</td>\n",
       "      <td>1.000000</td>\n",
       "      <td>34.052234</td>\n",
       "      <td>-111.940005</td>\n",
       "      <td>2.648879</td>\n",
       "    </tr>\n",
       "    <tr>\n",
       "      <th>50%</th>\n",
       "      <td>98276.000000</td>\n",
       "      <td>174539.000000</td>\n",
       "      <td>NaN</td>\n",
       "      <td>267.000000</td>\n",
       "      <td>105.000000</td>\n",
       "      <td>1.000000</td>\n",
       "      <td>1.000000</td>\n",
       "      <td>1.000000</td>\n",
       "      <td>2.564500e+06</td>\n",
       "      <td>1.000000</td>\n",
       "      <td>1.000000</td>\n",
       "      <td>39.768403</td>\n",
       "      <td>-77.036871</td>\n",
       "      <td>6.500497</td>\n",
       "    </tr>\n",
       "    <tr>\n",
       "      <th>75%</th>\n",
       "      <td>147414.000000</td>\n",
       "      <td>232655.000000</td>\n",
       "      <td>NaN</td>\n",
       "      <td>484.000000</td>\n",
       "      <td>232.000000</td>\n",
       "      <td>1.000000</td>\n",
       "      <td>1.000000</td>\n",
       "      <td>2.000000</td>\n",
       "      <td>1.100000e+07</td>\n",
       "      <td>1.000000</td>\n",
       "      <td>3.000000</td>\n",
       "      <td>45.421530</td>\n",
       "      <td>-0.127758</td>\n",
       "      <td>13.549900</td>\n",
       "    </tr>\n",
       "    <tr>\n",
       "      <th>max</th>\n",
       "      <td>196552.000000</td>\n",
       "      <td>286215.000000</td>\n",
       "      <td>NaN</td>\n",
       "      <td>18200.000000</td>\n",
       "      <td>9600.000000</td>\n",
       "      <td>478.000000</td>\n",
       "      <td>459.000000</td>\n",
       "      <td>15.000000</td>\n",
       "      <td>5.700000e+09</td>\n",
       "      <td>9.000000</td>\n",
       "      <td>1189.000000</td>\n",
       "      <td>77.553604</td>\n",
       "      <td>176.212549</td>\n",
       "      <td>13333.333333</td>\n",
       "    </tr>\n",
       "  </tbody>\n",
       "</table>\n",
       "</div>"
      ],
      "text/plain": [
       "        Unnamed: 0.1      entity_id  parent_id     logo_width    logo_height  \\\n",
       "count  196553.000000  196553.000000        0.0  110110.000000  110110.000000   \n",
       "mean    98276.000000  153006.227333        NaN     459.132685     222.728917   \n",
       "std     56740.108067   90209.250941        NaN     594.982577     333.090722   \n",
       "min         0.000000       1.000000        NaN       1.000000       1.000000   \n",
       "25%     49138.000000   59850.000000        NaN     192.000000      70.000000   \n",
       "50%     98276.000000  174539.000000        NaN     267.000000     105.000000   \n",
       "75%    147414.000000  232655.000000        NaN     484.000000     232.000000   \n",
       "max    196552.000000  286215.000000        NaN   18200.000000    9600.000000   \n",
       "\n",
       "       investment_rounds  invested_companies  funding_rounds  \\\n",
       "count        2591.000000         2591.000000    31707.000000   \n",
       "mean            2.372057            2.204940        1.659760   \n",
       "std            12.173510           11.436955        1.201666   \n",
       "min             1.000000            1.000000        1.000000   \n",
       "25%             1.000000            1.000000        1.000000   \n",
       "50%             1.000000            1.000000        1.000000   \n",
       "75%             1.000000            1.000000        2.000000   \n",
       "max           478.000000          459.000000       15.000000   \n",
       "\n",
       "       funding_total_usd    milestones  relationships           lat  \\\n",
       "count       2.787400e+04  91699.000000  129667.000000  83852.000000   \n",
       "mean        1.481652e+07      1.199402       2.852067     37.564512   \n",
       "std         6.775937e+07      0.540099       9.100309     15.477102   \n",
       "min         2.910000e+02      1.000000       1.000000    -50.942326   \n",
       "25%         5.000000e+05      1.000000       1.000000     34.052234   \n",
       "50%         2.564500e+06      1.000000       1.000000     39.768403   \n",
       "75%         1.100000e+07      1.000000       3.000000     45.421530   \n",
       "max         5.700000e+09      9.000000    1189.000000     77.553604   \n",
       "\n",
       "                lng           ROI  \n",
       "count  83852.000000    726.000000  \n",
       "mean     -52.123066     45.745037  \n",
       "std       70.049067    572.035638  \n",
       "min     -159.497746      0.011111  \n",
       "25%     -111.940005      2.648879  \n",
       "50%      -77.036871      6.500497  \n",
       "75%       -0.127758     13.549900  \n",
       "max      176.212549  13333.333333  "
      ]
     },
     "execution_count": 4,
     "metadata": {},
     "output_type": "execute_result"
    }
   ],
   "source": [
    "df.describe()"
   ]
  },
  {
   "cell_type": "code",
   "execution_count": 5,
   "metadata": {},
   "outputs": [
    {
     "data": {
      "text/plain": [
       "id                          0\n",
       "Unnamed: 0.1                0\n",
       "entity_type                 0\n",
       "entity_id                   0\n",
       "parent_id              196553\n",
       "name                       23\n",
       "normalized_name            26\n",
       "permalink                   0\n",
       "category_code           73367\n",
       "status                      0\n",
       "founded_at             105326\n",
       "closed_at              193933\n",
       "domain                  70008\n",
       "homepage_url            70008\n",
       "twitter_username       115962\n",
       "logo_url                86443\n",
       "logo_width              86443\n",
       "logo_height             86443\n",
       "short_description      189422\n",
       "description            104505\n",
       "overview                69582\n",
       "tag_list               115101\n",
       "country_code           108563\n",
       "state_code             145650\n",
       "city                   112663\n",
       "region                      0\n",
       "first_investment_at    193970\n",
       "last_investment_at     193970\n",
       "investment_rounds      193962\n",
       "invested_companies     193962\n",
       "first_funding_at       165046\n",
       "last_funding_at        165046\n",
       "funding_rounds         164846\n",
       "funding_total_usd      168679\n",
       "first_milestone_at     104854\n",
       "last_milestone_at      104854\n",
       "milestones             104854\n",
       "relationships           66886\n",
       "created_by              41020\n",
       "created_at                  0\n",
       "updated_at                  0\n",
       "lat                    112701\n",
       "lng                    112701\n",
       "ROI                    195827\n",
       "dtype: int64"
      ]
     },
     "execution_count": 5,
     "metadata": {},
     "output_type": "execute_result"
    }
   ],
   "source": [
    "df.isnull().sum()"
   ]
  },
  {
   "cell_type": "code",
   "execution_count": 6,
   "metadata": {},
   "outputs": [
    {
     "data": {
      "text/plain": [
       "Index(['id', 'Unnamed: 0.1', 'entity_type', 'entity_id', 'parent_id', 'name',\n",
       "       'normalized_name', 'permalink', 'category_code', 'status', 'founded_at',\n",
       "       'closed_at', 'domain', 'homepage_url', 'twitter_username', 'logo_url',\n",
       "       'logo_width', 'logo_height', 'short_description', 'description',\n",
       "       'overview', 'tag_list', 'country_code', 'state_code', 'city', 'region',\n",
       "       'first_investment_at', 'last_investment_at', 'investment_rounds',\n",
       "       'invested_companies', 'first_funding_at', 'last_funding_at',\n",
       "       'funding_rounds', 'funding_total_usd', 'first_milestone_at',\n",
       "       'last_milestone_at', 'milestones', 'relationships', 'created_by',\n",
       "       'created_at', 'updated_at', 'lat', 'lng', 'ROI'],\n",
       "      dtype='object')"
      ]
     },
     "execution_count": 6,
     "metadata": {},
     "output_type": "execute_result"
    }
   ],
   "source": [
    "df.columns"
   ]
  },
  {
   "cell_type": "code",
   "execution_count": 7,
   "metadata": {},
   "outputs": [
    {
     "name": "stdout",
     "output_type": "stream",
     "text": [
      "We have 14 numerical columns: ['Unnamed: 0.1', 'entity_id', 'parent_id', 'logo_width', 'logo_height', 'investment_rounds', 'invested_companies', 'funding_rounds', 'funding_total_usd', 'milestones', 'relationships', 'lat', 'lng', 'ROI']\n",
      "We have 30 categorical columns: ['id', 'entity_type', 'name', 'normalized_name', 'permalink', 'category_code', 'status', 'founded_at', 'closed_at', 'domain', 'homepage_url', 'twitter_username', 'logo_url', 'short_description', 'description', 'overview', 'tag_list', 'country_code', 'state_code', 'city', 'region', 'first_investment_at', 'last_investment_at', 'first_funding_at', 'last_funding_at', 'first_milestone_at', 'last_milestone_at', 'created_by', 'created_at', 'updated_at']\n"
     ]
    }
   ],
   "source": [
    "# Separate numerical and categorical columns\n",
    "numerical_columns = [feature for feature in df.columns if df[feature].dtype != 'O']\n",
    "categorical_columns = [feature for feature in df.columns if df[feature].dtype == 'O']\n",
    "\n",
    "# Print the number of numerical and categorical columns\n",
    "print(f\"We have {len(numerical_columns)} numerical columns: {numerical_columns}\")\n",
    "print(f\"We have {len(categorical_columns)} categorical columns: {categorical_columns}\")"
   ]
  },
  {
   "cell_type": "code",
   "execution_count": 8,
   "metadata": {},
   "outputs": [
    {
     "data": {
      "text/plain": [
       "id                      object\n",
       "Unnamed: 0.1             int64\n",
       "entity_type             object\n",
       "entity_id                int64\n",
       "parent_id              float64\n",
       "name                    object\n",
       "normalized_name         object\n",
       "permalink               object\n",
       "category_code           object\n",
       "status                  object\n",
       "founded_at              object\n",
       "closed_at               object\n",
       "domain                  object\n",
       "homepage_url            object\n",
       "twitter_username        object\n",
       "logo_url                object\n",
       "logo_width             float64\n",
       "logo_height            float64\n",
       "short_description       object\n",
       "description             object\n",
       "overview                object\n",
       "tag_list                object\n",
       "country_code            object\n",
       "state_code              object\n",
       "city                    object\n",
       "region                  object\n",
       "first_investment_at     object\n",
       "last_investment_at      object\n",
       "investment_rounds      float64\n",
       "invested_companies     float64\n",
       "first_funding_at        object\n",
       "last_funding_at         object\n",
       "funding_rounds         float64\n",
       "funding_total_usd      float64\n",
       "first_milestone_at      object\n",
       "last_milestone_at       object\n",
       "milestones             float64\n",
       "relationships          float64\n",
       "created_by              object\n",
       "created_at              object\n",
       "updated_at              object\n",
       "lat                    float64\n",
       "lng                    float64\n",
       "ROI                    float64\n",
       "dtype: object"
      ]
     },
     "execution_count": 8,
     "metadata": {},
     "output_type": "execute_result"
    }
   ],
   "source": [
    "df.dtypes"
   ]
  },
  {
   "cell_type": "code",
   "execution_count": 9,
   "metadata": {},
   "outputs": [
    {
     "data": {
      "text/plain": [
       "id                     196553\n",
       "Unnamed: 0.1           196553\n",
       "entity_type                 1\n",
       "entity_id              196553\n",
       "parent_id                   0\n",
       "name                   196347\n",
       "normalized_name        195451\n",
       "permalink              196512\n",
       "category_code              42\n",
       "status                      4\n",
       "founded_at               6156\n",
       "closed_at                 925\n",
       "domain                 125498\n",
       "homepage_url           125961\n",
       "twitter_username        79571\n",
       "logo_url               110110\n",
       "logo_width               3325\n",
       "logo_height              2128\n",
       "short_description        7126\n",
       "description             83696\n",
       "overview               126515\n",
       "tag_list                79133\n",
       "country_code              175\n",
       "state_code                 51\n",
       "city                    10652\n",
       "region                   5847\n",
       "first_investment_at      1197\n",
       "last_investment_at       1105\n",
       "investment_rounds          41\n",
       "invested_companies         37\n",
       "first_funding_at         3208\n",
       "last_funding_at          2978\n",
       "funding_rounds             15\n",
       "funding_total_usd        9720\n",
       "first_milestone_at       4080\n",
       "last_milestone_at        3966\n",
       "milestones                  9\n",
       "relationships             155\n",
       "created_by              55329\n",
       "created_at             182851\n",
       "updated_at             183558\n",
       "lat                      7962\n",
       "lng                      7954\n",
       "ROI                       657\n",
       "dtype: int64"
      ]
     },
     "execution_count": 9,
     "metadata": {},
     "output_type": "execute_result"
    }
   ],
   "source": [
    "df.nunique()"
   ]
  },
  {
   "cell_type": "code",
   "execution_count": 10,
   "metadata": {},
   "outputs": [
    {
     "data": {
      "text/plain": [
       "(196553, 44)"
      ]
     },
     "execution_count": 10,
     "metadata": {},
     "output_type": "execute_result"
    }
   ],
   "source": [
    "df.shape"
   ]
  },
  {
   "cell_type": "markdown",
   "metadata": {},
   "source": [
    "### 1. Data Cleaning"
   ]
  },
  {
   "cell_type": "code",
   "execution_count": 11,
   "metadata": {},
   "outputs": [
    {
     "data": {
      "text/plain": [
       "Index(['id', 'Unnamed: 0.1', 'entity_type', 'entity_id', 'parent_id', 'name',\n",
       "       'normalized_name', 'permalink', 'category_code', 'status', 'founded_at',\n",
       "       'closed_at', 'domain', 'homepage_url', 'twitter_username', 'logo_url',\n",
       "       'logo_width', 'logo_height', 'short_description', 'description',\n",
       "       'overview', 'tag_list', 'country_code', 'state_code', 'city', 'region',\n",
       "       'first_investment_at', 'last_investment_at', 'investment_rounds',\n",
       "       'invested_companies', 'first_funding_at', 'last_funding_at',\n",
       "       'funding_rounds', 'funding_total_usd', 'first_milestone_at',\n",
       "       'last_milestone_at', 'milestones', 'relationships', 'created_by',\n",
       "       'created_at', 'updated_at', 'lat', 'lng', 'ROI'],\n",
       "      dtype='object')"
      ]
     },
     "execution_count": 11,
     "metadata": {},
     "output_type": "execute_result"
    }
   ],
   "source": [
    "# df = df.drop(columns=[col for col in df.columns if df[col].nunique() <= 1])\n",
    "df.columns"
   ]
  },
  {
   "cell_type": "code",
   "execution_count": 12,
   "metadata": {},
   "outputs": [
    {
     "name": "stdout",
     "output_type": "stream",
     "text": [
      "Index(['category_code', 'status', 'founded_at', 'closed_at', 'country_code',\n",
      "       'first_investment_at', 'last_investment_at', 'investment_rounds',\n",
      "       'first_funding_at', 'last_funding_at', 'funding_rounds',\n",
      "       'funding_total_usd', 'first_milestone_at', 'last_milestone_at',\n",
      "       'milestones', 'relationships', 'lat', 'lng', 'ROI'],\n",
      "      dtype='object')\n"
     ]
    }
   ],
   "source": [
    "# Drop the specified columns\n",
    "df = df.drop(columns=['region', 'city', 'state_code', 'id', 'Unnamed: 0.1', 'entity_type', 'entity_id', 'parent_id', 'created_by','created_at', 'updated_at', 'domain', 'homepage_url', 'twitter_username', 'logo_url', 'logo_width', 'logo_height',           \n",
    "    'short_description', 'description', 'overview','tag_list', 'name', 'normalized_name', 'permalink',    \n",
    "    'invested_companies'])\n",
    "print(df.columns)"
   ]
  },
  {
   "cell_type": "markdown",
   "metadata": {},
   "source": [
    "## 2. Remove noise or unreliable data (missing values and outliers)"
   ]
  },
  {
   "cell_type": "code",
   "execution_count": 13,
   "metadata": {},
   "outputs": [
    {
     "name": "stdout",
     "output_type": "stream",
     "text": [
      "Index(['category_code', 'status', 'founded_at', 'country_code',\n",
      "       'first_funding_at', 'last_funding_at', 'funding_rounds',\n",
      "       'funding_total_usd', 'first_milestone_at', 'last_milestone_at',\n",
      "       'milestones', 'relationships', 'lat', 'lng'],\n",
      "      dtype='object')\n"
     ]
    }
   ],
   "source": [
    "threshold = 0.98 * len(df)\n",
    "\n",
    "# Drop columns where the number of missing values is more than the threshold\n",
    "df_cleaned = df.loc[:, df.isnull().sum() <= threshold]\n",
    "\n",
    "# Verify the remaining columns\n",
    "print(df_cleaned.columns)"
   ]
  },
  {
   "cell_type": "code",
   "execution_count": 14,
   "metadata": {},
   "outputs": [
    {
     "name": "stdout",
     "output_type": "stream",
     "text": [
      "We have 8 numerical columns: ['investment_rounds', 'funding_rounds', 'funding_total_usd', 'milestones', 'relationships', 'lat', 'lng', 'ROI']\n",
      "We have 11 categorical columns: ['category_code', 'status', 'founded_at', 'closed_at', 'country_code', 'first_investment_at', 'last_investment_at', 'first_funding_at', 'last_funding_at', 'first_milestone_at', 'last_milestone_at']\n"
     ]
    }
   ],
   "source": [
    "# Separate numerical and categorical columns\n",
    "numerical_columns = [feature for feature in df.columns if df[feature].dtype != 'O']\n",
    "categorical_columns = [feature for feature in df.columns if df[feature].dtype == 'O']\n",
    "\n",
    "# Print the number of numerical and categorical columns\n",
    "print(f\"We have {len(numerical_columns)} numerical columns: {numerical_columns}\")\n",
    "print(f\"We have {len(categorical_columns)} categorical columns: {categorical_columns}\")"
   ]
  },
  {
   "cell_type": "code",
   "execution_count": 15,
   "metadata": {},
   "outputs": [
    {
     "data": {
      "text/plain": [
       "category_code            42\n",
       "status                    4\n",
       "founded_at             6156\n",
       "closed_at               925\n",
       "country_code            175\n",
       "first_investment_at    1197\n",
       "last_investment_at     1105\n",
       "investment_rounds        41\n",
       "first_funding_at       3208\n",
       "last_funding_at        2978\n",
       "funding_rounds           15\n",
       "funding_total_usd      9720\n",
       "first_milestone_at     4080\n",
       "last_milestone_at      3966\n",
       "milestones                9\n",
       "relationships           155\n",
       "lat                    7962\n",
       "lng                    7954\n",
       "ROI                     657\n",
       "dtype: int64"
      ]
     },
     "execution_count": 15,
     "metadata": {},
     "output_type": "execute_result"
    }
   ],
   "source": [
    "df.nunique()"
   ]
  },
  {
   "cell_type": "code",
   "execution_count": 16,
   "metadata": {},
   "outputs": [
    {
     "name": "stdout",
     "output_type": "stream",
     "text": [
      "status\n",
      "operating    183441\n",
      "acquired       9394\n",
      "closed         2584\n",
      "ipo            1134\n",
      "Name: count, dtype: int64\n"
     ]
    }
   ],
   "source": [
    "status_counts = df['status'].value_counts()\n",
    "\n",
    "# Print the counts\n",
    "print(status_counts)"
   ]
  },
  {
   "cell_type": "code",
   "execution_count": 17,
   "metadata": {},
   "outputs": [
    {
     "data": {
      "image/png": "[encoded data removed]",
      "text/plain": [
       "<Figure size 1200x800 with 1 Axes>"
      ]
     },
     "metadata": {},
     "output_type": "display_data"
    }
   ],
   "source": [
    "#Assuming 'data' is your DataFrame\n",
    "plt.figure(figsize=(12, 8))  # Adjust the figure size as needed\n",
    "sns.heatmap(df.isnull(), cbar=False, cmap='viridis')\n",
    "\n",
    "# sns.heatmap(...): This creates the heatmap.\n",
    "'''data.isnull() means This generates a DataFrame of the same shape as data,\n",
    " with True where the data is missing and False where it's not.'''\n",
    "# cbar=False means Removes the color bar, which is not very useful in this context.\n",
    "# cmap='viridis' means Sets the color map. where we can choose different color maps like 'YlGnBu', 'coolwarm', etc.\n",
    "\n",
    "plt.title('Missing Data Heatmap')\n",
    "plt.xlabel('Columns')\n",
    "plt.ylabel('Rows')\n",
    "plt.show()"
   ]
  },
  {
   "cell_type": "code",
   "execution_count": 18,
   "metadata": {},
   "outputs": [
    {
     "data": {
      "text/plain": [
       "array([[<Axes: title={'center': 'investment_rounds'}>,\n",
       "        <Axes: title={'center': 'funding_rounds'}>,\n",
       "        <Axes: title={'center': 'funding_total_usd'}>],\n",
       "       [<Axes: title={'center': 'milestones'}>,\n",
       "        <Axes: title={'center': 'relationships'}>,\n",
       "        <Axes: title={'center': 'lat'}>],\n",
       "       [<Axes: title={'center': 'lng'}>, <Axes: title={'center': 'ROI'}>,\n",
       "        <Axes: >]], dtype=object)"
      ]
     },
     "execution_count": 18,
     "metadata": {},
     "output_type": "execute_result"
    },
    {
     "data": {
      "image/png": "[encoded data removed]",
      "text/plain": [
       "<Figure size 1400x1200 with 9 Axes>"
      ]
     },
     "metadata": {},
     "output_type": "display_data"
    }
   ],
   "source": [
    "df.hist(figsize=(14, 12))"
   ]
  },
  {
   "cell_type": "code",
   "execution_count": 19,
   "metadata": {},
   "outputs": [
    {
     "data": {
      "text/plain": [
       "category_code           object\n",
       "status                  object\n",
       "founded_at              object\n",
       "closed_at               object\n",
       "country_code            object\n",
       "first_investment_at     object\n",
       "last_investment_at      object\n",
       "investment_rounds      float64\n",
       "first_funding_at        object\n",
       "last_funding_at         object\n",
       "funding_rounds         float64\n",
       "funding_total_usd      float64\n",
       "first_milestone_at      object\n",
       "last_milestone_at       object\n",
       "milestones             float64\n",
       "relationships          float64\n",
       "lat                    float64\n",
       "lng                    float64\n",
       "ROI                    float64\n",
       "dtype: object"
      ]
     },
     "execution_count": 19,
     "metadata": {},
     "output_type": "execute_result"
    }
   ],
   "source": [
    "df.dtypes"
   ]
  },
  {
   "cell_type": "code",
   "execution_count": 20,
   "metadata": {},
   "outputs": [
    {
     "data": {
      "text/html": [
       "<div>\n",
       "<style scoped>\n",
       "    .dataframe tbody tr th:only-of-type {\n",
       "        vertical-align: middle;\n",
       "    }\n",
       "\n",
       "    .dataframe tbody tr th {\n",
       "        vertical-align: top;\n",
       "    }\n",
       "\n",
       "    .dataframe thead th {\n",
       "        text-align: right;\n",
       "    }\n",
       "</style>\n",
       "<table border=\"1\" class=\"dataframe\">\n",
       "  <thead>\n",
       "    <tr style=\"text-align: right;\">\n",
       "      <th></th>\n",
       "      <th>investment_rounds</th>\n",
       "      <th>funding_rounds</th>\n",
       "      <th>funding_total_usd</th>\n",
       "      <th>milestones</th>\n",
       "      <th>relationships</th>\n",
       "      <th>lat</th>\n",
       "      <th>lng</th>\n",
       "      <th>ROI</th>\n",
       "    </tr>\n",
       "  </thead>\n",
       "  <tbody>\n",
       "    <tr>\n",
       "      <th>investment_rounds</th>\n",
       "      <td>1.000000</td>\n",
       "      <td>0.024396</td>\n",
       "      <td>-0.028161</td>\n",
       "      <td>0.177141</td>\n",
       "      <td>0.108258</td>\n",
       "      <td>0.000087</td>\n",
       "      <td>-0.050258</td>\n",
       "      <td>-0.153856</td>\n",
       "    </tr>\n",
       "    <tr>\n",
       "      <th>funding_rounds</th>\n",
       "      <td>0.024396</td>\n",
       "      <td>1.000000</td>\n",
       "      <td>0.247538</td>\n",
       "      <td>0.301662</td>\n",
       "      <td>0.206828</td>\n",
       "      <td>0.009679</td>\n",
       "      <td>-0.129863</td>\n",
       "      <td>-0.054402</td>\n",
       "    </tr>\n",
       "    <tr>\n",
       "      <th>funding_total_usd</th>\n",
       "      <td>-0.028161</td>\n",
       "      <td>0.247538</td>\n",
       "      <td>1.000000</td>\n",
       "      <td>0.132476</td>\n",
       "      <td>0.189499</td>\n",
       "      <td>-0.004019</td>\n",
       "      <td>-0.027673</td>\n",
       "      <td>-0.035738</td>\n",
       "    </tr>\n",
       "    <tr>\n",
       "      <th>milestones</th>\n",
       "      <td>0.177141</td>\n",
       "      <td>0.301662</td>\n",
       "      <td>0.132476</td>\n",
       "      <td>1.000000</td>\n",
       "      <td>0.281683</td>\n",
       "      <td>0.039993</td>\n",
       "      <td>-0.114848</td>\n",
       "      <td>-0.050463</td>\n",
       "    </tr>\n",
       "    <tr>\n",
       "      <th>relationships</th>\n",
       "      <td>0.108258</td>\n",
       "      <td>0.206828</td>\n",
       "      <td>0.189499</td>\n",
       "      <td>0.281683</td>\n",
       "      <td>1.000000</td>\n",
       "      <td>0.012803</td>\n",
       "      <td>-0.066016</td>\n",
       "      <td>-0.029466</td>\n",
       "    </tr>\n",
       "    <tr>\n",
       "      <th>lat</th>\n",
       "      <td>0.000087</td>\n",
       "      <td>0.009679</td>\n",
       "      <td>-0.004019</td>\n",
       "      <td>0.039993</td>\n",
       "      <td>0.012803</td>\n",
       "      <td>1.000000</td>\n",
       "      <td>-0.273809</td>\n",
       "      <td>0.033072</td>\n",
       "    </tr>\n",
       "    <tr>\n",
       "      <th>lng</th>\n",
       "      <td>-0.050258</td>\n",
       "      <td>-0.129863</td>\n",
       "      <td>-0.027673</td>\n",
       "      <td>-0.114848</td>\n",
       "      <td>-0.066016</td>\n",
       "      <td>-0.273809</td>\n",
       "      <td>1.000000</td>\n",
       "      <td>-0.002272</td>\n",
       "    </tr>\n",
       "    <tr>\n",
       "      <th>ROI</th>\n",
       "      <td>-0.153856</td>\n",
       "      <td>-0.054402</td>\n",
       "      <td>-0.035738</td>\n",
       "      <td>-0.050463</td>\n",
       "      <td>-0.029466</td>\n",
       "      <td>0.033072</td>\n",
       "      <td>-0.002272</td>\n",
       "      <td>1.000000</td>\n",
       "    </tr>\n",
       "  </tbody>\n",
       "</table>\n",
       "</div>"
      ],
      "text/plain": [
       "                   investment_rounds  funding_rounds  funding_total_usd  \\\n",
       "investment_rounds           1.000000        0.024396          -0.028161   \n",
       "funding_rounds              0.024396        1.000000           0.247538   \n",
       "funding_total_usd          -0.028161        0.247538           1.000000   \n",
       "milestones                  0.177141        0.301662           0.132476   \n",
       "relationships               0.108258        0.206828           0.189499   \n",
       "lat                         0.000087        0.009679          -0.004019   \n",
       "lng                        -0.050258       -0.129863          -0.027673   \n",
       "ROI                        -0.153856       -0.054402          -0.035738   \n",
       "\n",
       "                   milestones  relationships       lat       lng       ROI  \n",
       "investment_rounds    0.177141       0.108258  0.000087 -0.050258 -0.153856  \n",
       "funding_rounds       0.301662       0.206828  0.009679 -0.129863 -0.054402  \n",
       "funding_total_usd    0.132476       0.189499 -0.004019 -0.027673 -0.035738  \n",
       "milestones           1.000000       0.281683  0.039993 -0.114848 -0.050463  \n",
       "relationships        0.281683       1.000000  0.012803 -0.066016 -0.029466  \n",
       "lat                  0.039993       0.012803  1.000000 -0.273809  0.033072  \n",
       "lng                 -0.114848      -0.066016 -0.273809  1.000000 -0.002272  \n",
       "ROI                 -0.050463      -0.029466  0.033072 -0.002272  1.000000  "
      ]
     },
     "execution_count": 20,
     "metadata": {},
     "output_type": "execute_result"
    }
   ],
   "source": [
    "'''calculate the correlation between numerical variables'''\n",
    "# Filter out only numeric columns\n",
    "numeric_data = df.select_dtypes(include=['number'])\n",
    "\n",
    "# Calculate the correlation matrix\n",
    "correlation_matrix = numeric_data.corr()\n",
    "\n",
    "# Display the correlation matrix\n",
    "correlation_matrix"
   ]
  },
  {
   "cell_type": "code",
   "execution_count": 21,
   "metadata": {},
   "outputs": [
    {
     "data": {
      "image/png": "[encoded data removed]",
      "text/plain": [
       "<Figure size 1000x800 with 2 Axes>"
      ]
     },
     "metadata": {},
     "output_type": "display_data"
    }
   ],
   "source": [
    "# visualize correlation_matrix with a heatmap\n",
    "plt.figure(figsize=(10, 8))\n",
    "sns.heatmap(correlation_matrix, annot=True, cmap='coolwarm', fmt='.2f')\n",
    "\n",
    "plt.title('Correlation Matrix Heatmap')\n",
    "plt.show()"
   ]
  },
  {
   "cell_type": "code",
   "execution_count": 22,
   "metadata": {},
   "outputs": [
    {
     "name": "stdout",
     "output_type": "stream",
     "text": [
      "Columns to drop: set()\n",
      "Remaining columns: Index(['category_code', 'status', 'founded_at', 'closed_at', 'country_code',\n",
      "       'first_investment_at', 'last_investment_at', 'investment_rounds',\n",
      "       'first_funding_at', 'last_funding_at', 'funding_rounds',\n",
      "       'funding_total_usd', 'first_milestone_at', 'last_milestone_at',\n",
      "       'milestones', 'relationships', 'lat', 'lng', 'ROI'],\n",
      "      dtype='object')\n"
     ]
    }
   ],
   "source": [
    "# Calculate the correlation matrix\n",
    "correlation_matrix\n",
    "\n",
    "# Define a threshold for high correlation\n",
    "threshold = 0.8\n",
    "\n",
    "# Create a set to hold features to drop\n",
    "to_drop = set()\n",
    "\n",
    "# Iterate over the correlation matrix\n",
    "for i in range(len(correlation_matrix.columns)):\n",
    "    for j in range(i):\n",
    "        if abs(correlation_matrix.iloc[i, j]) > threshold:\n",
    "            colname = correlation_matrix.columns[i]\n",
    "            to_drop.add(colname)\n",
    "\n",
    "# Drop the columns with high correlation\n",
    "df_reduced = df.drop(columns=to_drop)\n",
    "\n",
    "# Print the columns to drop and the remaining columns\n",
    "print(\"Columns to drop:\", to_drop)\n",
    "print(\"Remaining columns:\", df_reduced.columns)"
   ]
  },
  {
   "cell_type": "code",
   "execution_count": 23,
   "metadata": {},
   "outputs": [
    {
     "name": "stdout",
     "output_type": "stream",
     "text": [
      "category_code           73367\n",
      "founded_at             105326\n",
      "closed_at              193933\n",
      "country_code           108563\n",
      "first_investment_at    193970\n",
      "last_investment_at     193970\n",
      "investment_rounds      193962\n",
      "first_funding_at       165046\n",
      "last_funding_at        165046\n",
      "funding_rounds         164846\n",
      "funding_total_usd      168679\n",
      "first_milestone_at     104854\n",
      "last_milestone_at      104854\n",
      "milestones             104854\n",
      "relationships           66886\n",
      "lat                    112701\n",
      "lng                    112701\n",
      "ROI                    195827\n",
      "dtype: int64\n"
     ]
    }
   ],
   "source": [
    "# Check for missing values in each column\n",
    "missing_values = df.isnull().sum()\n",
    "\n",
    "# Print columns with missing values\n",
    "print(missing_values[missing_values > 0])"
   ]
  },
  {
   "cell_type": "code",
   "execution_count": 24,
   "metadata": {},
   "outputs": [],
   "source": [
    "# Remove rows with any missing values\n",
    "df_cleaned = df.dropna()\n",
    "# Remove columns with any missing values\n",
    "df_cleaned = df.dropna(axis=1)"
   ]
  },
  {
   "cell_type": "code",
   "execution_count": 25,
   "metadata": {},
   "outputs": [],
   "source": [
    "# Impute missing values in numerical columns with their mean\n",
    "df[numerical_columns] = df[numerical_columns].fillna(df[numerical_columns].mean())"
   ]
  },
  {
   "cell_type": "code",
   "execution_count": 26,
   "metadata": {},
   "outputs": [],
   "source": [
    "# Impute missing values in categorical columns with their mode (most frequent value)\n",
    "for col in categorical_columns:\n",
    "    df[col].fillna(df[col].mode()[0], inplace=True)"
   ]
  },
  {
   "cell_type": "code",
   "execution_count": 27,
   "metadata": {},
   "outputs": [
    {
     "data": {
      "text/plain": [
       "category_code          0\n",
       "status                 0\n",
       "founded_at             0\n",
       "closed_at              0\n",
       "country_code           0\n",
       "first_investment_at    0\n",
       "last_investment_at     0\n",
       "investment_rounds      0\n",
       "first_funding_at       0\n",
       "last_funding_at        0\n",
       "funding_rounds         0\n",
       "funding_total_usd      0\n",
       "first_milestone_at     0\n",
       "last_milestone_at      0\n",
       "milestones             0\n",
       "relationships          0\n",
       "lat                    0\n",
       "lng                    0\n",
       "ROI                    0\n",
       "dtype: int64"
      ]
     },
     "execution_count": 27,
     "metadata": {},
     "output_type": "execute_result"
    }
   ],
   "source": [
    "df.isnull().sum()"
   ]
  },
  {
   "cell_type": "code",
   "execution_count": 28,
   "metadata": {},
   "outputs": [
    {
     "name": "stdout",
     "output_type": "stream",
     "text": [
      "We have 8 numerical columns: ['investment_rounds', 'funding_rounds', 'funding_total_usd', 'milestones', 'relationships', 'lat', 'lng', 'ROI']\n",
      "We have 11 categorical columns: ['category_code', 'status', 'founded_at', 'closed_at', 'country_code', 'first_investment_at', 'last_investment_at', 'first_funding_at', 'last_funding_at', 'first_milestone_at', 'last_milestone_at']\n"
     ]
    }
   ],
   "source": [
    "# Separate numerical and categorical columns\n",
    "numerical_columns = [feature for feature in df.columns if df[feature].dtype != 'O']\n",
    "categorical_columns = [feature for feature in df.columns if df[feature].dtype == 'O']\n",
    "\n",
    "# Print the number of numerical and categorical columns\n",
    "print(f\"We have {len(numerical_columns)} numerical columns: {numerical_columns}\")\n",
    "print(f\"We have {len(categorical_columns)} categorical columns: {categorical_columns}\")"
   ]
  },
  {
   "cell_type": "markdown",
   "metadata": {},
   "source": [
    "## Boxplots using Seaborn"
   ]
  },
  {
   "cell_type": "code",
   "execution_count": 29,
   "metadata": {},
   "outputs": [
    {
     "data": {
      "image/png": "[encoded data removed]",
      "text/plain": [
       "<Figure size 1200x600 with 2 Axes>"
      ]
     },
     "metadata": {},
     "output_type": "display_data"
    }
   ],
   "source": [
    "# Set the size of the plot\n",
    "plt.figure(figsize=(12, 6))\n",
    "\n",
    "# Create a boxplot for 'funding_total_usd'\n",
    "plt.subplot(1, 2, 1)\n",
    "sns.boxplot(x=df['funding_total_usd'])\n",
    "plt.title('Boxplot of Funding Total USD')\n",
    "\n",
    "# Create a boxplot for 'funding_rounds'\n",
    "plt.subplot(1, 2, 2)\n",
    "sns.boxplot(x=df['funding_rounds'])\n",
    "plt.title('Boxplot of Funding Rounds')\n",
    "\n",
    "# Show the plot\n",
    "plt.tight_layout()\n",
    "plt.show()"
   ]
  },
  {
   "cell_type": "markdown",
   "metadata": {},
   "source": [
    "## Using IQR (Interquartile Range) to Remove Outliers"
   ]
  },
  {
   "cell_type": "code",
   "execution_count": 30,
   "metadata": {},
   "outputs": [
    {
     "name": "stdout",
     "output_type": "stream",
     "text": [
      "       investment_rounds  funding_rounds  funding_total_usd     milestones  \\\n",
      "count      164846.000000    164846.00000       1.648460e+05  164846.000000   \n",
      "mean            2.364209         1.65976       1.481652e+07       1.155182   \n",
      "std             0.484876         0.00000       1.862651e-09       0.250253   \n",
      "min             1.000000         1.65976       1.481652e+07       1.000000   \n",
      "25%             2.372057         1.65976       1.481652e+07       1.000000   \n",
      "50%             2.372057         1.65976       1.481652e+07       1.199402   \n",
      "75%             2.372057         1.65976       1.481652e+07       1.199402   \n",
      "max           125.000000         1.65976       1.481652e+07       7.000000   \n",
      "\n",
      "       relationships            lat            lng           ROI  \n",
      "count  164846.000000  164846.000000  164846.000000  1.648460e+05  \n",
      "mean        2.474356      37.333549     -50.152736  4.574504e+01  \n",
      "std         6.343892       9.670405      41.990519  2.131635e-14  \n",
      "min         1.000000     -50.942326    -159.497746  4.574504e+01  \n",
      "25%         1.000000      37.564512     -52.123066  4.574504e+01  \n",
      "50%         2.000000      37.564512     -52.123066  4.574504e+01  \n",
      "75%         2.852067      37.564512     -52.123066  4.574504e+01  \n",
      "max      1189.000000      77.553604     176.165130  4.574504e+01  \n"
     ]
    }
   ],
   "source": [
    "columns = ['funding_total_usd', 'funding_rounds']\n",
    "\n",
    "# Create a copy of the DataFrame to avoid modifying the original\n",
    "df_cleaned = df.copy()\n",
    "\n",
    "# Remove outliers for specified columns\n",
    "for column in columns:\n",
    "    # Calculate Q1 (25th percentile) and Q3 (75th percentile)\n",
    "    Q1 = df_cleaned[column].quantile(0.25)\n",
    "    Q3 = df_cleaned[column].quantile(0.75)\n",
    "    IQR = Q3 - Q1\n",
    "\n",
    "    # Define outlier condition\n",
    "    outlier_condition = (df_cleaned[column] < (Q1 - 1.5 * IQR)) | (df_cleaned[column] > (Q3 + 1.5 * IQR))\n",
    "\n",
    "    # Remove outliers\n",
    "    df_cleaned = df_cleaned[~outlier_condition]\n",
    "\n",
    "# Verify the cleaned DataFrame\n",
    "print(df_cleaned.describe())"
   ]
  },
  {
   "cell_type": "markdown",
   "metadata": {},
   "source": [
    "## Using Z-Scores to Remove Outliers"
   ]
  },
  {
   "cell_type": "code",
   "execution_count": 31,
   "metadata": {},
   "outputs": [
    {
     "name": "stdout",
     "output_type": "stream",
     "text": [
      "       investment_rounds  funding_rounds  funding_total_usd     milestones  \\\n",
      "count      191211.000000   191211.000000       1.912110e+05  191211.000000   \n",
      "mean            2.369130        1.600335       1.378188e+07       1.181409   \n",
      "std             1.212043        0.215425       4.769881e+06       0.315684   \n",
      "min             1.000000        1.000000       2.910000e+02       1.000000   \n",
      "25%             2.372057        1.659760       1.481652e+07       1.000000   \n",
      "50%             2.372057        1.659760       1.481652e+07       1.199402   \n",
      "75%             2.372057        1.659760       1.481652e+07       1.199402   \n",
      "max           478.000000        2.000000       9.100000e+07       7.000000   \n",
      "\n",
      "       relationships            lat            lng            ROI  \n",
      "count  191211.000000  191211.000000  191211.000000  191211.000000  \n",
      "mean        2.669020      37.521147     -51.410838      45.796038  \n",
      "std         7.130321      10.118171      45.245324      35.194128  \n",
      "min         1.000000     -50.942326    -159.497746       0.025000  \n",
      "25%         1.000000      37.564512     -71.616129      45.745037  \n",
      "50%         2.852067      37.564512     -52.123066      45.745037  \n",
      "75%         2.852067      37.765206     -52.123066      45.745037  \n",
      "max      1189.000000      77.553604     176.212549   13333.333333  \n"
     ]
    }
   ],
   "source": [
    "# Define columns for which to remove outliers\n",
    "columns = ['funding_total_usd', 'funding_rounds']\n",
    "\n",
    "# Create a copy of the DataFrame to avoid modifying the original\n",
    "df_cleaned = df.copy()\n",
    "\n",
    "# Remove outliers for specified columns\n",
    "for column in columns:\n",
    "    # Calculate z-scores\n",
    "    z_scores = stats.zscore(df_cleaned[column].dropna())\n",
    "    \n",
    "    # Define threshold for z-scores\n",
    "    threshold = 3\n",
    "    \n",
    "    # Identify outliers based on z-scores\n",
    "    outlier_condition = abs(z_scores) > threshold\n",
    "    \n",
    "    # Remove outliers\n",
    "    df_cleaned = df_cleaned[~df_cleaned[column].index.isin(df_cleaned[column].dropna().index[outlier_condition])]\n",
    "\n",
    "# Verify the cleaned DataFrame\n",
    "print(df_cleaned.describe())"
   ]
  },
  {
   "cell_type": "code",
   "execution_count": 32,
   "metadata": {},
   "outputs": [
    {
     "name": "stdout",
     "output_type": "stream",
     "text": [
      "<class 'pandas.core.frame.DataFrame'>\n",
      "RangeIndex: 196553 entries, 0 to 196552\n",
      "Data columns (total 19 columns):\n",
      " #   Column               Non-Null Count   Dtype  \n",
      "---  ------               --------------   -----  \n",
      " 0   category_code        196553 non-null  object \n",
      " 1   status               196553 non-null  object \n",
      " 2   founded_at           196553 non-null  object \n",
      " 3   closed_at            196553 non-null  object \n",
      " 4   country_code         196553 non-null  object \n",
      " 5   first_investment_at  196553 non-null  object \n",
      " 6   last_investment_at   196553 non-null  object \n",
      " 7   investment_rounds    196553 non-null  float64\n",
      " 8   first_funding_at     196553 non-null  object \n",
      " 9   last_funding_at      196553 non-null  object \n",
      " 10  funding_rounds       196553 non-null  float64\n",
      " 11  funding_total_usd    196553 non-null  float64\n",
      " 12  first_milestone_at   196553 non-null  object \n",
      " 13  last_milestone_at    196553 non-null  object \n",
      " 14  milestones           196553 non-null  float64\n",
      " 15  relationships        196553 non-null  float64\n",
      " 16  lat                  196553 non-null  float64\n",
      " 17  lng                  196553 non-null  float64\n",
      " 18  ROI                  196553 non-null  float64\n",
      "dtypes: float64(8), object(11)\n",
      "memory usage: 28.5+ MB\n"
     ]
    }
   ],
   "source": [
    "df.info()"
   ]
  },
  {
   "cell_type": "markdown",
   "metadata": {},
   "source": [
    "# B. Date Transformation"
   ]
  },
  {
   "cell_type": "markdown",
   "metadata": {},
   "source": [
    "### 1. Convert Date Columns to Years"
   ]
  },
  {
   "cell_type": "code",
   "execution_count": 33,
   "metadata": {},
   "outputs": [
    {
     "name": "stdout",
     "output_type": "stream",
     "text": [
      "     category_code     status country_code first_investment_at  \\\n",
      "0              web  operating          USA          2009-01-01   \n",
      "1      games_video   acquired          USA          2009-01-01   \n",
      "2      games_video   acquired          USA          2009-01-01   \n",
      "3  network_hosting  operating          USA          2009-01-01   \n",
      "4      games_video  operating          USA          2009-01-01   \n",
      "\n",
      "  last_investment_at  investment_rounds  funding_rounds  funding_total_usd  \\\n",
      "0         2012-01-01           2.372057         3.00000       3.975000e+07   \n",
      "1         2012-01-01           2.372057         1.65976       1.481652e+07   \n",
      "2         2012-01-01           2.372057         1.65976       1.481652e+07   \n",
      "3         2012-01-01           2.372057         1.65976       1.481652e+07   \n",
      "4         2012-01-01           2.372057         1.65976       1.481652e+07   \n",
      "\n",
      "   milestones  relationships        lat         lng        ROI  \\\n",
      "0    5.000000      17.000000  47.606209 -122.332071  15.500000   \n",
      "1    1.199402       6.000000  34.021122 -118.396467  45.745037   \n",
      "2    4.000000      12.000000  37.562992 -122.325525  45.745037   \n",
      "3    1.199402       2.852067  37.564512  -52.123066  45.745037   \n",
      "4    1.199402       2.852067  37.564512  -52.123066  45.745037   \n",
      "\n",
      "   founded_at_year  closed_at_year  first_funding_at_year  \\\n",
      "0             2005            2012                   2005   \n",
      "1             2011            2012                   2008   \n",
      "2             2011            2012                   2008   \n",
      "3             2008            2012                   2008   \n",
      "4             2008            2012                   2008   \n",
      "\n",
      "   last_funding_at_year  first_milestone_at_year  last_milestone_at_year  \n",
      "0                  2008                     2010                    2013  \n",
      "1                  2012                     2012                    2012  \n",
      "2                  2012                     2003                    2011  \n",
      "3                  2012                     2012                    2012  \n",
      "4                  2012                     2012                    2012  \n"
     ]
    }
   ],
   "source": [
    "date_columns = [\n",
    "    'founded_at', 'closed_at', 'first_funding_at', 'last_funding_at',\n",
    "    'first_milestone_at', 'last_milestone_at'\n",
    "]\n",
    "\n",
    "# Convert date columns to datetime format, then extract the year\n",
    "for col in date_columns:\n",
    "    if col in df.columns:\n",
    "        df[col] = pd.to_datetime(df[col], errors='coerce')  # Convert to datetime, errors='coerce' to handle invalid dates\n",
    "        df[col + '_year'] = df[col].dt.year  # Extract year\n",
    "\n",
    "# Drop the original date columns if needed\n",
    "df.drop(columns=date_columns, inplace=True)\n",
    "\n",
    "# Verify the changes\n",
    "print(df.head())"
   ]
  },
  {
   "cell_type": "code",
   "execution_count": 34,
   "metadata": {},
   "outputs": [
    {
     "name": "stdout",
     "output_type": "stream",
     "text": [
      "<class 'pandas.core.frame.DataFrame'>\n",
      "RangeIndex: 196553 entries, 0 to 196552\n",
      "Data columns (total 19 columns):\n",
      " #   Column                   Non-Null Count   Dtype  \n",
      "---  ------                   --------------   -----  \n",
      " 0   category_code            196553 non-null  object \n",
      " 1   status                   196553 non-null  object \n",
      " 2   country_code             196553 non-null  object \n",
      " 3   first_investment_at      196553 non-null  object \n",
      " 4   last_investment_at       196553 non-null  object \n",
      " 5   investment_rounds        196553 non-null  float64\n",
      " 6   funding_rounds           196553 non-null  float64\n",
      " 7   funding_total_usd        196553 non-null  float64\n",
      " 8   milestones               196553 non-null  float64\n",
      " 9   relationships            196553 non-null  float64\n",
      " 10  lat                      196553 non-null  float64\n",
      " 11  lng                      196553 non-null  float64\n",
      " 12  ROI                      196553 non-null  float64\n",
      " 13  founded_at_year          196553 non-null  int32  \n",
      " 14  closed_at_year           196553 non-null  int32  \n",
      " 15  first_funding_at_year    196553 non-null  int32  \n",
      " 16  last_funding_at_year     196553 non-null  int32  \n",
      " 17  first_milestone_at_year  196553 non-null  int32  \n",
      " 18  last_milestone_at_year   196553 non-null  int32  \n",
      "dtypes: float64(8), int32(6), object(5)\n",
      "memory usage: 24.0+ MB\n"
     ]
    }
   ],
   "source": [
    "df.info()"
   ]
  },
  {
   "cell_type": "markdown",
   "metadata": {},
   "source": [
    "### 2. Generalize Categorical Data"
   ]
  },
  {
   "cell_type": "markdown",
   "metadata": {},
   "source": [
    "#### 1. Generalize category_code"
   ]
  },
  {
   "cell_type": "code",
   "execution_count": 35,
   "metadata": {},
   "outputs": [
    {
     "name": "stdout",
     "output_type": "stream",
     "text": [
      "category_code\n",
      "government             43\n",
      "pets                   61\n",
      "nanotech               70\n",
      "nonprofit             184\n",
      "design                281\n",
      "automotive            291\n",
      "messaging             296\n",
      "real_estate           474\n",
      "transportation        489\n",
      "photo_video           544\n",
      "fashion               563\n",
      "music                 581\n",
      "sports                675\n",
      "manufacturing         680\n",
      "semiconductor         696\n",
      "news                  768\n",
      "hospitality           768\n",
      "local                 785\n",
      "travel                936\n",
      "legal                1012\n",
      "analytics            1022\n",
      "medical              1153\n",
      "security             1171\n",
      "social               1310\n",
      "finance              1386\n",
      "health               1698\n",
      "cleantech            1940\n",
      "search               2182\n",
      "network_hosting      2350\n",
      "public_relations     2846\n",
      "education            2901\n",
      "hardware             2951\n",
      "biotech              4430\n",
      "enterprise           4441\n",
      "consulting           5006\n",
      "advertising          6098\n",
      "mobile               6862\n",
      "games_video          7520\n",
      "ecommerce            9065\n",
      "other               13617\n",
      "web                 15118\n",
      "software            91289\n",
      "Name: count, dtype: int64\n"
     ]
    }
   ],
   "source": [
    "# Check the frequency of each value in 'category_code'\n",
    "category_counts = df['category_code'].value_counts()\n",
    "\n",
    "# Display the frequency counts in ascending order\n",
    "print(category_counts.sort_values())"
   ]
  },
  {
   "cell_type": "markdown",
   "metadata": {},
   "source": [
    "Keep Top 10 Categories and Group Others as 'Other'"
   ]
  },
  {
   "cell_type": "code",
   "execution_count": 36,
   "metadata": {},
   "outputs": [
    {
     "name": "stdout",
     "output_type": "stream",
     "text": [
      "category_code_generalized\n",
      "software       91289\n",
      "Other          33107\n",
      "web            15118\n",
      "other          13617\n",
      "ecommerce       9065\n",
      "games_video     7520\n",
      "mobile          6862\n",
      "advertising     6098\n",
      "consulting      5006\n",
      "enterprise      4441\n",
      "biotech         4430\n",
      "Name: count, dtype: int64\n"
     ]
    }
   ],
   "source": [
    "# Get the top 10 categories\n",
    "top_10_categories = category_counts.head(10).index\n",
    "\n",
    "# Replace less frequent categories with 'Other'\n",
    "df['category_code_generalized'] = df['category_code'].apply(\n",
    "    lambda x: x if x in top_10_categories else 'Other'\n",
    ")\n",
    "\n",
    "# Verify the changes\n",
    "print(df['category_code_generalized'].value_counts())"
   ]
  },
  {
   "cell_type": "markdown",
   "metadata": {},
   "source": [
    "One-Hot Encoding category_code_generalized"
   ]
  },
  {
   "cell_type": "code",
   "execution_count": 37,
   "metadata": {},
   "outputs": [
    {
     "name": "stdout",
     "output_type": "stream",
     "text": [
      "      status country_code first_investment_at last_investment_at  \\\n",
      "0  operating          USA          2009-01-01         2012-01-01   \n",
      "1   acquired          USA          2009-01-01         2012-01-01   \n",
      "2   acquired          USA          2009-01-01         2012-01-01   \n",
      "3  operating          USA          2009-01-01         2012-01-01   \n",
      "4  operating          USA          2009-01-01         2012-01-01   \n",
      "\n",
      "   investment_rounds  funding_rounds  funding_total_usd  milestones  \\\n",
      "0           2.372057         3.00000       3.975000e+07    5.000000   \n",
      "1           2.372057         1.65976       1.481652e+07    1.199402   \n",
      "2           2.372057         1.65976       1.481652e+07    4.000000   \n",
      "3           2.372057         1.65976       1.481652e+07    1.199402   \n",
      "4           2.372057         1.65976       1.481652e+07    1.199402   \n",
      "\n",
      "   relationships        lat  ...  category_code_advertising  \\\n",
      "0      17.000000  47.606209  ...                      False   \n",
      "1       6.000000  34.021122  ...                      False   \n",
      "2      12.000000  37.562992  ...                      False   \n",
      "3       2.852067  37.564512  ...                      False   \n",
      "4       2.852067  37.564512  ...                      False   \n",
      "\n",
      "   category_code_biotech  category_code_consulting  category_code_ecommerce  \\\n",
      "0                  False                     False                    False   \n",
      "1                  False                     False                    False   \n",
      "2                  False                     False                    False   \n",
      "3                  False                     False                    False   \n",
      "4                  False                     False                    False   \n",
      "\n",
      "   category_code_enterprise  category_code_games_video  category_code_mobile  \\\n",
      "0                     False                      False                 False   \n",
      "1                     False                       True                 False   \n",
      "2                     False                       True                 False   \n",
      "3                     False                      False                 False   \n",
      "4                     False                       True                 False   \n",
      "\n",
      "   category_code_other category_code_software  category_code_web  \n",
      "0                False                  False               True  \n",
      "1                False                  False              False  \n",
      "2                False                  False              False  \n",
      "3                False                  False              False  \n",
      "4                False                  False              False  \n",
      "\n",
      "[5 rows x 30 columns]\n"
     ]
    }
   ],
   "source": [
    "# One-hot encode the generalized 'category_code'\n",
    "category_encoded = pd.get_dummies(df['category_code_generalized'], prefix='category_code')\n",
    "\n",
    "# Concatenate the one-hot encoded DataFrame with the original DataFrame\n",
    "df = pd.concat([df, category_encoded], axis=1)\n",
    "\n",
    "# Drop the original 'category_code' column\n",
    "df.drop(columns=['category_code'], inplace=True)\n",
    "\n",
    "# Verify the changes\n",
    "print(df.head())"
   ]
  },
  {
   "cell_type": "markdown",
   "metadata": {},
   "source": [
    "#### 2. Generalize country_code"
   ]
  },
  {
   "cell_type": "code",
   "execution_count": 38,
   "metadata": {},
   "outputs": [
    {
     "name": "stdout",
     "output_type": "stream",
     "text": [
      "country_code\n",
      "NCL         1\n",
      "NER         1\n",
      "NFK         1\n",
      "NIC         1\n",
      "AND         1\n",
      "        ...  \n",
      "DEU      1921\n",
      "CAN      3728\n",
      "IND      3924\n",
      "GBR      7372\n",
      "USA    160200\n",
      "Name: count, Length: 175, dtype: int64\n"
     ]
    }
   ],
   "source": [
    "# Check the frequency of each value in 'country_code'\n",
    "country_counts = df['country_code'].value_counts()\n",
    "\n",
    "# Display the frequency counts in ascending order\n",
    "print(country_counts.sort_values())"
   ]
  },
  {
   "cell_type": "code",
   "execution_count": 39,
   "metadata": {},
   "outputs": [
    {
     "name": "stdout",
     "output_type": "stream",
     "text": [
      "country_code_generalized\n",
      "USA      160200\n",
      "Other      9573\n",
      "GBR        7372\n",
      "IND        3924\n",
      "CAN        3728\n",
      "DEU        1921\n",
      "FRA        1652\n",
      "AUS        1455\n",
      "ESP        1100\n",
      "IRL        1079\n",
      "ISR        1042\n",
      "NLD         866\n",
      "CHN         732\n",
      "SWE         705\n",
      "ITA         626\n",
      "FIN         578\n",
      "Name: count, dtype: int64\n"
     ]
    }
   ],
   "source": [
    "# Get the top categories (e.g., top 15 or as needed)\n",
    "top_countries = country_counts.head(15).index\n",
    "\n",
    "# Replace less frequent countries with 'Other'\n",
    "df['country_code_generalized'] = df['country_code'].apply(\n",
    "    lambda x: x if x in top_countries else 'Other'\n",
    ")\n",
    "\n",
    "# Verify the changes\n",
    "print(df['country_code_generalized'].value_counts())"
   ]
  },
  {
   "cell_type": "code",
   "execution_count": 40,
   "metadata": {},
   "outputs": [
    {
     "name": "stdout",
     "output_type": "stream",
     "text": [
      "      status first_investment_at last_investment_at  investment_rounds  \\\n",
      "0  operating          2009-01-01         2012-01-01           2.372057   \n",
      "1   acquired          2009-01-01         2012-01-01           2.372057   \n",
      "2   acquired          2009-01-01         2012-01-01           2.372057   \n",
      "3  operating          2009-01-01         2012-01-01           2.372057   \n",
      "4  operating          2009-01-01         2012-01-01           2.372057   \n",
      "\n",
      "   funding_rounds  funding_total_usd  milestones  relationships        lat  \\\n",
      "0         3.00000       3.975000e+07    5.000000      17.000000  47.606209   \n",
      "1         1.65976       1.481652e+07    1.199402       6.000000  34.021122   \n",
      "2         1.65976       1.481652e+07    4.000000      12.000000  37.562992   \n",
      "3         1.65976       1.481652e+07    1.199402       2.852067  37.564512   \n",
      "4         1.65976       1.481652e+07    1.199402       2.852067  37.564512   \n",
      "\n",
      "          lng  ...  country_code_FRA  country_code_GBR  country_code_IND  \\\n",
      "0 -122.332071  ...             False             False             False   \n",
      "1 -118.396467  ...             False             False             False   \n",
      "2 -122.325525  ...             False             False             False   \n",
      "3  -52.123066  ...             False             False             False   \n",
      "4  -52.123066  ...             False             False             False   \n",
      "\n",
      "   country_code_IRL  country_code_ISR  country_code_ITA  country_code_NLD  \\\n",
      "0             False             False             False             False   \n",
      "1             False             False             False             False   \n",
      "2             False             False             False             False   \n",
      "3             False             False             False             False   \n",
      "4             False             False             False             False   \n",
      "\n",
      "  country_code_Other  country_code_SWE  country_code_USA  \n",
      "0              False             False              True  \n",
      "1              False             False              True  \n",
      "2              False             False              True  \n",
      "3              False             False              True  \n",
      "4              False             False              True  \n",
      "\n",
      "[5 rows x 46 columns]\n"
     ]
    }
   ],
   "source": [
    "# One-hot encode the generalized 'country_code'\n",
    "country_encoded = pd.get_dummies(df['country_code_generalized'], prefix='country_code')\n",
    "\n",
    "# Concatenate the one-hot encoded DataFrame with the original DataFrame\n",
    "df = pd.concat([df, country_encoded], axis=1)\n",
    "\n",
    "# Drop the original 'country_code' column\n",
    "df.drop(columns=['country_code'], inplace=True)\n",
    "\n",
    "# Verify the changes\n",
    "print(df.head())"
   ]
  },
  {
   "cell_type": "markdown",
   "metadata": {},
   "source": [
    "#### Create new feature 'isClosed' from closed_at and status."
   ]
  },
  {
   "cell_type": "code",
   "execution_count": 41,
   "metadata": {},
   "outputs": [
    {
     "name": "stdout",
     "output_type": "stream",
     "text": [
      "   isClosed\n",
      "0         1\n",
      "1         0\n",
      "2         0\n",
      "3         1\n",
      "4         1\n"
     ]
    }
   ],
   "source": [
    "# Create 'isClosed' column based on 'status' and 'closed_at'\n",
    "df['isClosed'] = df.apply(\n",
    "    lambda row: 1 if row['status'] in ['operating', 'ipo'] else (\n",
    "        0 if row['status'] in ['acquired', 'closed'] else None\n",
    "    ),\n",
    "    axis=1\n",
    ")\n",
    "\n",
    "# Display the updated DataFrame\n",
    "print(df[['isClosed']].head())\n"
   ]
  },
  {
   "cell_type": "code",
   "execution_count": 42,
   "metadata": {},
   "outputs": [
    {
     "name": "stdout",
     "output_type": "stream",
     "text": [
      "Index(['status', 'first_investment_at', 'last_investment_at',\n",
      "       'investment_rounds', 'funding_rounds', 'funding_total_usd',\n",
      "       'milestones', 'relationships', 'lat', 'lng', 'ROI', 'founded_at_year',\n",
      "       'closed_at_year', 'first_funding_at_year', 'last_funding_at_year',\n",
      "       'first_milestone_at_year', 'last_milestone_at_year',\n",
      "       'category_code_generalized', 'category_code_Other',\n",
      "       'category_code_advertising', 'category_code_biotech',\n",
      "       'category_code_consulting', 'category_code_ecommerce',\n",
      "       'category_code_enterprise', 'category_code_games_video',\n",
      "       'category_code_mobile', 'category_code_other', 'category_code_software',\n",
      "       'category_code_web', 'country_code_generalized', 'country_code_AUS',\n",
      "       'country_code_CAN', 'country_code_CHN', 'country_code_DEU',\n",
      "       'country_code_ESP', 'country_code_FIN', 'country_code_FRA',\n",
      "       'country_code_GBR', 'country_code_IND', 'country_code_IRL',\n",
      "       'country_code_ISR', 'country_code_ITA', 'country_code_NLD',\n",
      "       'country_code_Other', 'country_code_SWE', 'country_code_USA',\n",
      "       'isClosed'],\n",
      "      dtype='object')\n"
     ]
    }
   ],
   "source": [
    "# Print all column names to verify\n",
    "print(df.columns)"
   ]
  },
  {
   "cell_type": "markdown",
   "metadata": {},
   "source": [
    "#### Create 'active_days'"
   ]
  },
  {
   "cell_type": "markdown",
   "metadata": {},
   "source": [
    "#### Step 1: Replace values in closed_at based on status"
   ]
  },
  {
   "cell_type": "code",
   "execution_count": 43,
   "metadata": {},
   "outputs": [
    {
     "name": "stdout",
     "output_type": "stream",
     "text": [
      "      status  closed_at_year\n",
      "0  operating            2021\n",
      "1   acquired               0\n",
      "2   acquired               0\n",
      "3  operating            2021\n",
      "4  operating            2021\n"
     ]
    }
   ],
   "source": [
    "# Replace the 'closed_at' values based on 'status'\n",
    "df['closed_at_year'] = df.apply(\n",
    "    lambda row: 2021 if row['status'] in ['operating', 'ipo'] else row['closed_at_year'],\n",
    "    axis=1\n",
    ")\n",
    "\n",
    "# If status is 'acquired' or 'closed', set 'closed_at_year' to 0\n",
    "df['closed_at_year'] = df.apply(\n",
    "    lambda row: 0 if row['status'] in ['acquired', 'closed'] else row['closed_at_year'],\n",
    "    axis=1\n",
    ")\n",
    "\n",
    "# Verify the changes\n",
    "print(df[['status', 'closed_at_year']].head())\n"
   ]
  },
  {
   "cell_type": "markdown",
   "metadata": {},
   "source": [
    "#### Step 2: Create active_days by subtracting founded_at_year from closed_at_year"
   ]
  },
  {
   "cell_type": "code",
   "execution_count": 44,
   "metadata": {},
   "outputs": [
    {
     "name": "stdout",
     "output_type": "stream",
     "text": [
      "   founded_at_year  closed_at_year  active_days\n",
      "0             2005            2021       5840.0\n",
      "1             2011               0          NaN\n",
      "2             2011               0          NaN\n",
      "3             2008            2021       4745.0\n",
      "4             2008            2021       4745.0\n"
     ]
    }
   ],
   "source": [
    "# Calculate the active days\n",
    "df['active_days'] = df.apply(\n",
    "    lambda row: (row['closed_at_year'] - row['founded_at_year']) * 365 if row['closed_at_year'] != 0 else None,\n",
    "    axis=1\n",
    ")\n",
    "\n",
    "# Verify the changes\n",
    "print(df[['founded_at_year', 'closed_at_year', 'active_days']].head())"
   ]
  },
  {
   "cell_type": "code",
   "execution_count": 45,
   "metadata": {},
   "outputs": [
    {
     "data": {
      "text/plain": [
       "Index(['status', 'first_investment_at', 'last_investment_at',\n",
       "       'investment_rounds', 'funding_rounds', 'funding_total_usd',\n",
       "       'milestones', 'relationships', 'lat', 'lng', 'ROI', 'founded_at_year',\n",
       "       'closed_at_year', 'first_funding_at_year', 'last_funding_at_year',\n",
       "       'first_milestone_at_year', 'last_milestone_at_year',\n",
       "       'category_code_generalized', 'category_code_Other',\n",
       "       'category_code_advertising', 'category_code_biotech',\n",
       "       'category_code_consulting', 'category_code_ecommerce',\n",
       "       'category_code_enterprise', 'category_code_games_video',\n",
       "       'category_code_mobile', 'category_code_other', 'category_code_software',\n",
       "       'category_code_web', 'country_code_generalized', 'country_code_AUS',\n",
       "       'country_code_CAN', 'country_code_CHN', 'country_code_DEU',\n",
       "       'country_code_ESP', 'country_code_FIN', 'country_code_FRA',\n",
       "       'country_code_GBR', 'country_code_IND', 'country_code_IRL',\n",
       "       'country_code_ISR', 'country_code_ITA', 'country_code_NLD',\n",
       "       'country_code_Other', 'country_code_SWE', 'country_code_USA',\n",
       "       'isClosed', 'active_days'],\n",
       "      dtype='object')"
      ]
     },
     "execution_count": 45,
     "metadata": {},
     "output_type": "execute_result"
    }
   ],
   "source": [
    "df.columns"
   ]
  },
  {
   "cell_type": "code",
   "execution_count": 46,
   "metadata": {},
   "outputs": [
    {
     "name": "stdout",
     "output_type": "stream",
     "text": [
      "<class 'pandas.core.frame.DataFrame'>\n",
      "RangeIndex: 196553 entries, 0 to 196552\n",
      "Data columns (total 48 columns):\n",
      " #   Column                     Non-Null Count   Dtype  \n",
      "---  ------                     --------------   -----  \n",
      " 0   status                     196553 non-null  object \n",
      " 1   first_investment_at        196553 non-null  object \n",
      " 2   last_investment_at         196553 non-null  object \n",
      " 3   investment_rounds          196553 non-null  float64\n",
      " 4   funding_rounds             196553 non-null  float64\n",
      " 5   funding_total_usd          196553 non-null  float64\n",
      " 6   milestones                 196553 non-null  float64\n",
      " 7   relationships              196553 non-null  float64\n",
      " 8   lat                        196553 non-null  float64\n",
      " 9   lng                        196553 non-null  float64\n",
      " 10  ROI                        196553 non-null  float64\n",
      " 11  founded_at_year            196553 non-null  int32  \n",
      " 12  closed_at_year             196553 non-null  int64  \n",
      " 13  first_funding_at_year      196553 non-null  int32  \n",
      " 14  last_funding_at_year       196553 non-null  int32  \n",
      " 15  first_milestone_at_year    196553 non-null  int32  \n",
      " 16  last_milestone_at_year     196553 non-null  int32  \n",
      " 17  category_code_generalized  196553 non-null  object \n",
      " 18  category_code_Other        196553 non-null  bool   \n",
      " 19  category_code_advertising  196553 non-null  bool   \n",
      " 20  category_code_biotech      196553 non-null  bool   \n",
      " 21  category_code_consulting   196553 non-null  bool   \n",
      " 22  category_code_ecommerce    196553 non-null  bool   \n",
      " 23  category_code_enterprise   196553 non-null  bool   \n",
      " 24  category_code_games_video  196553 non-null  bool   \n",
      " 25  category_code_mobile       196553 non-null  bool   \n",
      " 26  category_code_other        196553 non-null  bool   \n",
      " 27  category_code_software     196553 non-null  bool   \n",
      " 28  category_code_web          196553 non-null  bool   \n",
      " 29  country_code_generalized   196553 non-null  object \n",
      " 30  country_code_AUS           196553 non-null  bool   \n",
      " 31  country_code_CAN           196553 non-null  bool   \n",
      " 32  country_code_CHN           196553 non-null  bool   \n",
      " 33  country_code_DEU           196553 non-null  bool   \n",
      " 34  country_code_ESP           196553 non-null  bool   \n",
      " 35  country_code_FIN           196553 non-null  bool   \n",
      " 36  country_code_FRA           196553 non-null  bool   \n",
      " 37  country_code_GBR           196553 non-null  bool   \n",
      " 38  country_code_IND           196553 non-null  bool   \n",
      " 39  country_code_IRL           196553 non-null  bool   \n",
      " 40  country_code_ISR           196553 non-null  bool   \n",
      " 41  country_code_ITA           196553 non-null  bool   \n",
      " 42  country_code_NLD           196553 non-null  bool   \n",
      " 43  country_code_Other         196553 non-null  bool   \n",
      " 44  country_code_SWE           196553 non-null  bool   \n",
      " 45  country_code_USA           196553 non-null  bool   \n",
      " 46  isClosed                   196553 non-null  int64  \n",
      " 47  active_days                184575 non-null  float64\n",
      "dtypes: bool(27), float64(9), int32(5), int64(2), object(5)\n",
      "memory usage: 32.8+ MB\n"
     ]
    }
   ],
   "source": [
    "df.info()"
   ]
  },
  {
   "cell_type": "markdown",
   "metadata": {},
   "source": [
    "#### Step 1: Convert founded_at_year and closed_at_year to datetime"
   ]
  },
  {
   "cell_type": "code",
   "execution_count": 47,
   "metadata": {},
   "outputs": [
    {
     "name": "stdout",
     "output_type": "stream",
     "text": [
      "  founded_at  closed_at\n",
      "0 2005-01-01 2021-01-01\n",
      "1 2011-01-01        NaT\n",
      "2 2011-01-01        NaT\n",
      "3 2008-01-01 2021-01-01\n",
      "4 2008-01-01 2021-01-01\n"
     ]
    }
   ],
   "source": [
    "# Convert 'founded_at_year' and 'closed_at_year' to datetime objects\n",
    "df['founded_at'] = pd.to_datetime(df['founded_at_year'], format='%Y')\n",
    "df['closed_at'] = pd.to_datetime(df['closed_at_year'], format='%Y', errors='coerce')\n",
    "\n",
    "# Verify the changes\n",
    "print(df[['founded_at', 'closed_at']].head())"
   ]
  },
  {
   "cell_type": "markdown",
   "metadata": {},
   "source": [
    "#### Step 2: Calculate active_days"
   ]
  },
  {
   "cell_type": "code",
   "execution_count": 51,
   "metadata": {},
   "outputs": [
    {
     "name": "stdout",
     "output_type": "stream",
     "text": [
      "  founded_at  closed_at  active_days\n",
      "0 2005-01-01 2021-01-01       5844.0\n",
      "1 2011-01-01        NaT          NaN\n",
      "2 2011-01-01        NaT          NaN\n",
      "3 2008-01-01 2021-01-01       4749.0\n",
      "4 2008-01-01 2021-01-01       4749.0\n"
     ]
    }
   ],
   "source": [
    "# Calculate active days\n",
    "df['active_days'] = (df['closed_at'] - df['founded_at']).dt.days\n",
    "\n",
    "# Verify the changes\n",
    "print(df[['founded_at', 'closed_at', 'active_days']].head())"
   ]
  },
  {
   "cell_type": "markdown",
   "metadata": {},
   "source": [
    "#### Step 3: Check for Contradictory Issues"
   ]
  },
  {
   "cell_type": "code",
   "execution_count": 48,
   "metadata": {},
   "outputs": [
    {
     "name": "stdout",
     "output_type": "stream",
     "text": [
      "Number of NaN values per column:\n",
      "status                           0\n",
      "first_investment_at              0\n",
      "last_investment_at               0\n",
      "investment_rounds                0\n",
      "funding_rounds                   0\n",
      "funding_total_usd                0\n",
      "milestones                       0\n",
      "relationships                    0\n",
      "lat                              0\n",
      "lng                              0\n",
      "ROI                              0\n",
      "founded_at_year                  0\n",
      "closed_at_year                   0\n",
      "first_funding_at_year            0\n",
      "last_funding_at_year             0\n",
      "first_milestone_at_year          0\n",
      "last_milestone_at_year           0\n",
      "category_code_generalized        0\n",
      "category_code_Other              0\n",
      "category_code_advertising        0\n",
      "category_code_biotech            0\n",
      "category_code_consulting         0\n",
      "category_code_ecommerce          0\n",
      "category_code_enterprise         0\n",
      "category_code_games_video        0\n",
      "category_code_mobile             0\n",
      "category_code_other              0\n",
      "category_code_software           0\n",
      "category_code_web                0\n",
      "country_code_generalized         0\n",
      "country_code_AUS                 0\n",
      "country_code_CAN                 0\n",
      "country_code_CHN                 0\n",
      "country_code_DEU                 0\n",
      "country_code_ESP                 0\n",
      "country_code_FIN                 0\n",
      "country_code_FRA                 0\n",
      "country_code_GBR                 0\n",
      "country_code_IND                 0\n",
      "country_code_IRL                 0\n",
      "country_code_ISR                 0\n",
      "country_code_ITA                 0\n",
      "country_code_NLD                 0\n",
      "country_code_Other               0\n",
      "country_code_SWE                 0\n",
      "country_code_USA                 0\n",
      "isClosed                         0\n",
      "active_days                  11978\n",
      "founded_at                       0\n",
      "closed_at                    11978\n",
      "dtype: int64\n"
     ]
    }
   ],
   "source": [
    "nan_counts = df.isna().sum()\n",
    "\n",
    "# Display the number of NaN values per column\n",
    "print(\"Number of NaN values per column:\")\n",
    "print(nan_counts)\n"
   ]
  },
  {
   "cell_type": "code",
   "execution_count": 52,
   "metadata": {},
   "outputs": [
    {
     "name": "stdout",
     "output_type": "stream",
     "text": [
      "  founded_at  closed_at  active_days\n",
      "0 2005-01-01 2021-01-01       5844.0\n",
      "3 2008-01-01 2021-01-01       4749.0\n",
      "4 2008-01-01 2021-01-01       4749.0\n",
      "5 2007-01-01 2021-01-01       5114.0\n",
      "6 2008-01-01 2021-01-01       4749.0\n"
     ]
    }
   ],
   "source": [
    "# Optionally, handle contradictory cases (e.g., drop or correct them)\n",
    "df = df[df['active_days'] >= 0]\n",
    "\n",
    "# Or, if you want to keep them with some default value (e.g., 0 days)\n",
    "df['active_days'].fillna(0, inplace=True)\n",
    "\n",
    "# Verify the final dataset\n",
    "print(df[['founded_at', 'closed_at', 'active_days']].head())"
   ]
  },
  {
   "cell_type": "code",
   "execution_count": 55,
   "metadata": {},
   "outputs": [
    {
     "data": {
      "text/plain": [
       "status                       0\n",
       "first_investment_at          0\n",
       "last_investment_at           0\n",
       "investment_rounds            0\n",
       "funding_rounds               0\n",
       "funding_total_usd            0\n",
       "milestones                   0\n",
       "relationships                0\n",
       "lat                          0\n",
       "lng                          0\n",
       "ROI                          0\n",
       "founded_at_year              0\n",
       "closed_at_year               0\n",
       "first_funding_at_year        0\n",
       "last_funding_at_year         0\n",
       "first_milestone_at_year      0\n",
       "last_milestone_at_year       0\n",
       "category_code_generalized    0\n",
       "category_code_Other          0\n",
       "category_code_advertising    0\n",
       "category_code_biotech        0\n",
       "category_code_consulting     0\n",
       "category_code_ecommerce      0\n",
       "category_code_enterprise     0\n",
       "category_code_games_video    0\n",
       "category_code_mobile         0\n",
       "category_code_other          0\n",
       "category_code_software       0\n",
       "category_code_web            0\n",
       "country_code_generalized     0\n",
       "country_code_AUS             0\n",
       "country_code_CAN             0\n",
       "country_code_CHN             0\n",
       "country_code_DEU             0\n",
       "country_code_ESP             0\n",
       "country_code_FIN             0\n",
       "country_code_FRA             0\n",
       "country_code_GBR             0\n",
       "country_code_IND             0\n",
       "country_code_IRL             0\n",
       "country_code_ISR             0\n",
       "country_code_ITA             0\n",
       "country_code_NLD             0\n",
       "country_code_Other           0\n",
       "country_code_SWE             0\n",
       "country_code_USA             0\n",
       "isClosed                     0\n",
       "active_days                  0\n",
       "founded_at                   0\n",
       "closed_at                    0\n",
       "dtype: int64"
      ]
     },
     "execution_count": 55,
     "metadata": {},
     "output_type": "execute_result"
    }
   ],
   "source": [
    "df.isnull().sum()"
   ]
  },
  {
   "cell_type": "markdown",
   "metadata": {},
   "source": [
    "Step 5: Final Verification"
   ]
  },
  {
   "cell_type": "code",
   "execution_count": 56,
   "metadata": {},
   "outputs": [
    {
     "name": "stdout",
     "output_type": "stream",
     "text": [
      "                          founded_at            closed_at    active_days\n",
      "count                         184575               184575  184575.000000\n",
      "mean   2008-09-12 14:40:38.462413568  2021-01-01 00:00:00    4493.388444\n",
      "min              1901-01-01 00:00:00  2021-01-01 00:00:00    2557.000000\n",
      "25%              2009-01-01 00:00:00  2021-01-01 00:00:00    3653.000000\n",
      "50%              2011-01-01 00:00:00  2021-01-01 00:00:00    3653.000000\n",
      "75%              2011-01-01 00:00:00  2021-01-01 00:00:00    4383.000000\n",
      "max              2014-01-01 00:00:00  2021-01-01 00:00:00   43830.000000\n",
      "std                              NaN                  NaN    2588.496634\n"
     ]
    }
   ],
   "source": [
    "# Final check\n",
    "print(df[['founded_at', 'closed_at', 'active_days']].describe())"
   ]
  },
  {
   "cell_type": "code",
   "execution_count": 57,
   "metadata": {},
   "outputs": [
    {
     "data": {
      "text/html": [
       "<div>\n",
       "<style scoped>\n",
       "    .dataframe tbody tr th:only-of-type {\n",
       "        vertical-align: middle;\n",
       "    }\n",
       "\n",
       "    .dataframe tbody tr th {\n",
       "        vertical-align: top;\n",
       "    }\n",
       "\n",
       "    .dataframe thead th {\n",
       "        text-align: right;\n",
       "    }\n",
       "</style>\n",
       "<table border=\"1\" class=\"dataframe\">\n",
       "  <thead>\n",
       "    <tr style=\"text-align: right;\">\n",
       "      <th></th>\n",
       "      <th>investment_rounds</th>\n",
       "      <th>funding_rounds</th>\n",
       "      <th>funding_total_usd</th>\n",
       "      <th>milestones</th>\n",
       "      <th>relationships</th>\n",
       "      <th>lat</th>\n",
       "      <th>lng</th>\n",
       "      <th>ROI</th>\n",
       "      <th>founded_at_year</th>\n",
       "      <th>closed_at_year</th>\n",
       "      <th>first_funding_at_year</th>\n",
       "      <th>last_funding_at_year</th>\n",
       "      <th>first_milestone_at_year</th>\n",
       "      <th>last_milestone_at_year</th>\n",
       "      <th>isClosed</th>\n",
       "      <th>active_days</th>\n",
       "      <th>founded_at</th>\n",
       "      <th>closed_at</th>\n",
       "    </tr>\n",
       "  </thead>\n",
       "  <tbody>\n",
       "    <tr>\n",
       "      <th>count</th>\n",
       "      <td>184575.000000</td>\n",
       "      <td>184575.000000</td>\n",
       "      <td>1.845750e+05</td>\n",
       "      <td>184575.000000</td>\n",
       "      <td>184575.000000</td>\n",
       "      <td>184575.000000</td>\n",
       "      <td>184575.000000</td>\n",
       "      <td>184575.000000</td>\n",
       "      <td>184575.000000</td>\n",
       "      <td>184575.0</td>\n",
       "      <td>184575.000000</td>\n",
       "      <td>184575.000000</td>\n",
       "      <td>184575.000000</td>\n",
       "      <td>184575.000000</td>\n",
       "      <td>184575.0</td>\n",
       "      <td>184575.000000</td>\n",
       "      <td>184575</td>\n",
       "      <td>184575</td>\n",
       "    </tr>\n",
       "    <tr>\n",
       "      <th>mean</th>\n",
       "      <td>2.372529</td>\n",
       "      <td>1.659559</td>\n",
       "      <td>1.478684e+07</td>\n",
       "      <td>1.185897</td>\n",
       "      <td>2.760236</td>\n",
       "      <td>37.513313</td>\n",
       "      <td>-51.284704</td>\n",
       "      <td>45.744873</td>\n",
       "      <td>2008.699006</td>\n",
       "      <td>2021.0</td>\n",
       "      <td>2008.342695</td>\n",
       "      <td>2011.876348</td>\n",
       "      <td>2009.677871</td>\n",
       "      <td>2009.815143</td>\n",
       "      <td>1.0</td>\n",
       "      <td>4493.388444</td>\n",
       "      <td>2008-09-12 14:40:38.462413568</td>\n",
       "      <td>2021-01-01 00:00:00</td>\n",
       "    </tr>\n",
       "    <tr>\n",
       "      <th>min</th>\n",
       "      <td>1.000000</td>\n",
       "      <td>1.000000</td>\n",
       "      <td>2.910000e+02</td>\n",
       "      <td>1.000000</td>\n",
       "      <td>1.000000</td>\n",
       "      <td>-50.942326</td>\n",
       "      <td>-159.497746</td>\n",
       "      <td>15.500000</td>\n",
       "      <td>1901.000000</td>\n",
       "      <td>2021.0</td>\n",
       "      <td>1960.000000</td>\n",
       "      <td>1960.000000</td>\n",
       "      <td>1960.000000</td>\n",
       "      <td>1960.000000</td>\n",
       "      <td>1.0</td>\n",
       "      <td>2557.000000</td>\n",
       "      <td>1901-01-01 00:00:00</td>\n",
       "      <td>2021-01-01 00:00:00</td>\n",
       "    </tr>\n",
       "    <tr>\n",
       "      <th>25%</th>\n",
       "      <td>2.372057</td>\n",
       "      <td>1.659760</td>\n",
       "      <td>1.481652e+07</td>\n",
       "      <td>1.000000</td>\n",
       "      <td>1.000000</td>\n",
       "      <td>37.564512</td>\n",
       "      <td>-71.305928</td>\n",
       "      <td>45.745037</td>\n",
       "      <td>2009.000000</td>\n",
       "      <td>2021.0</td>\n",
       "      <td>2008.000000</td>\n",
       "      <td>2012.000000</td>\n",
       "      <td>2010.000000</td>\n",
       "      <td>2010.000000</td>\n",
       "      <td>1.0</td>\n",
       "      <td>3653.000000</td>\n",
       "      <td>2009-01-01 00:00:00</td>\n",
       "      <td>2021-01-01 00:00:00</td>\n",
       "    </tr>\n",
       "    <tr>\n",
       "      <th>50%</th>\n",
       "      <td>2.372057</td>\n",
       "      <td>1.659760</td>\n",
       "      <td>1.481652e+07</td>\n",
       "      <td>1.199402</td>\n",
       "      <td>2.852067</td>\n",
       "      <td>37.564512</td>\n",
       "      <td>-52.123066</td>\n",
       "      <td>45.745037</td>\n",
       "      <td>2011.000000</td>\n",
       "      <td>2021.0</td>\n",
       "      <td>2008.000000</td>\n",
       "      <td>2012.000000</td>\n",
       "      <td>2012.000000</td>\n",
       "      <td>2012.000000</td>\n",
       "      <td>1.0</td>\n",
       "      <td>3653.000000</td>\n",
       "      <td>2011-01-01 00:00:00</td>\n",
       "      <td>2021-01-01 00:00:00</td>\n",
       "    </tr>\n",
       "    <tr>\n",
       "      <th>75%</th>\n",
       "      <td>2.372057</td>\n",
       "      <td>1.659760</td>\n",
       "      <td>1.481652e+07</td>\n",
       "      <td>1.199402</td>\n",
       "      <td>2.852067</td>\n",
       "      <td>37.668821</td>\n",
       "      <td>-52.123066</td>\n",
       "      <td>45.745037</td>\n",
       "      <td>2011.000000</td>\n",
       "      <td>2021.0</td>\n",
       "      <td>2008.000000</td>\n",
       "      <td>2012.000000</td>\n",
       "      <td>2012.000000</td>\n",
       "      <td>2012.000000</td>\n",
       "      <td>1.0</td>\n",
       "      <td>4383.000000</td>\n",
       "      <td>2011-01-01 00:00:00</td>\n",
       "      <td>2021-01-01 00:00:00</td>\n",
       "    </tr>\n",
       "    <tr>\n",
       "      <th>max</th>\n",
       "      <td>478.000000</td>\n",
       "      <td>15.000000</td>\n",
       "      <td>3.985050e+09</td>\n",
       "      <td>9.000000</td>\n",
       "      <td>1189.000000</td>\n",
       "      <td>77.553604</td>\n",
       "      <td>176.212549</td>\n",
       "      <td>45.745037</td>\n",
       "      <td>2014.000000</td>\n",
       "      <td>2021.0</td>\n",
       "      <td>2013.000000</td>\n",
       "      <td>2013.000000</td>\n",
       "      <td>2014.000000</td>\n",
       "      <td>2014.000000</td>\n",
       "      <td>1.0</td>\n",
       "      <td>43830.000000</td>\n",
       "      <td>2014-01-01 00:00:00</td>\n",
       "      <td>2021-01-01 00:00:00</td>\n",
       "    </tr>\n",
       "    <tr>\n",
       "      <th>std</th>\n",
       "      <td>1.441361</td>\n",
       "      <td>0.464282</td>\n",
       "      <td>2.212317e+07</td>\n",
       "      <td>0.335775</td>\n",
       "      <td>7.375846</td>\n",
       "      <td>10.067678</td>\n",
       "      <td>45.229674</td>\n",
       "      <td>0.070399</td>\n",
       "      <td>7.086979</td>\n",
       "      <td>0.0</td>\n",
       "      <td>1.315726</td>\n",
       "      <td>0.935949</td>\n",
       "      <td>5.043469</td>\n",
       "      <td>5.008063</td>\n",
       "      <td>0.0</td>\n",
       "      <td>2588.496634</td>\n",
       "      <td>NaN</td>\n",
       "      <td>NaN</td>\n",
       "    </tr>\n",
       "  </tbody>\n",
       "</table>\n",
       "</div>"
      ],
      "text/plain": [
       "       investment_rounds  funding_rounds  funding_total_usd     milestones  \\\n",
       "count      184575.000000   184575.000000       1.845750e+05  184575.000000   \n",
       "mean            2.372529        1.659559       1.478684e+07       1.185897   \n",
       "min             1.000000        1.000000       2.910000e+02       1.000000   \n",
       "25%             2.372057        1.659760       1.481652e+07       1.000000   \n",
       "50%             2.372057        1.659760       1.481652e+07       1.199402   \n",
       "75%             2.372057        1.659760       1.481652e+07       1.199402   \n",
       "max           478.000000       15.000000       3.985050e+09       9.000000   \n",
       "std             1.441361        0.464282       2.212317e+07       0.335775   \n",
       "\n",
       "       relationships            lat            lng            ROI  \\\n",
       "count  184575.000000  184575.000000  184575.000000  184575.000000   \n",
       "mean        2.760236      37.513313     -51.284704      45.744873   \n",
       "min         1.000000     -50.942326    -159.497746      15.500000   \n",
       "25%         1.000000      37.564512     -71.305928      45.745037   \n",
       "50%         2.852067      37.564512     -52.123066      45.745037   \n",
       "75%         2.852067      37.668821     -52.123066      45.745037   \n",
       "max      1189.000000      77.553604     176.212549      45.745037   \n",
       "std         7.375846      10.067678      45.229674       0.070399   \n",
       "\n",
       "       founded_at_year  closed_at_year  first_funding_at_year  \\\n",
       "count    184575.000000        184575.0          184575.000000   \n",
       "mean       2008.699006          2021.0            2008.342695   \n",
       "min        1901.000000          2021.0            1960.000000   \n",
       "25%        2009.000000          2021.0            2008.000000   \n",
       "50%        2011.000000          2021.0            2008.000000   \n",
       "75%        2011.000000          2021.0            2008.000000   \n",
       "max        2014.000000          2021.0            2013.000000   \n",
       "std           7.086979             0.0               1.315726   \n",
       "\n",
       "       last_funding_at_year  first_milestone_at_year  last_milestone_at_year  \\\n",
       "count         184575.000000            184575.000000           184575.000000   \n",
       "mean            2011.876348              2009.677871             2009.815143   \n",
       "min             1960.000000              1960.000000             1960.000000   \n",
       "25%             2012.000000              2010.000000             2010.000000   \n",
       "50%             2012.000000              2012.000000             2012.000000   \n",
       "75%             2012.000000              2012.000000             2012.000000   \n",
       "max             2013.000000              2014.000000             2014.000000   \n",
       "std                0.935949                 5.043469                5.008063   \n",
       "\n",
       "       isClosed    active_days                     founded_at  \\\n",
       "count  184575.0  184575.000000                         184575   \n",
       "mean        1.0    4493.388444  2008-09-12 14:40:38.462413568   \n",
       "min         1.0    2557.000000            1901-01-01 00:00:00   \n",
       "25%         1.0    3653.000000            2009-01-01 00:00:00   \n",
       "50%         1.0    3653.000000            2011-01-01 00:00:00   \n",
       "75%         1.0    4383.000000            2011-01-01 00:00:00   \n",
       "max         1.0   43830.000000            2014-01-01 00:00:00   \n",
       "std         0.0    2588.496634                            NaN   \n",
       "\n",
       "                 closed_at  \n",
       "count               184575  \n",
       "mean   2021-01-01 00:00:00  \n",
       "min    2021-01-01 00:00:00  \n",
       "25%    2021-01-01 00:00:00  \n",
       "50%    2021-01-01 00:00:00  \n",
       "75%    2021-01-01 00:00:00  \n",
       "max    2021-01-01 00:00:00  \n",
       "std                    NaN  "
      ]
     },
     "execution_count": 57,
     "metadata": {},
     "output_type": "execute_result"
    }
   ],
   "source": [
    "df.describe()"
   ]
  },
  {
   "cell_type": "code",
   "execution_count": 59,
   "metadata": {},
   "outputs": [
    {
     "data": {
      "text/plain": [
       "status                               object\n",
       "first_investment_at                  object\n",
       "last_investment_at                   object\n",
       "investment_rounds                   float64\n",
       "funding_rounds                      float64\n",
       "funding_total_usd                   float64\n",
       "milestones                          float64\n",
       "relationships                       float64\n",
       "lat                                 float64\n",
       "lng                                 float64\n",
       "ROI                                 float64\n",
       "founded_at_year                       int32\n",
       "closed_at_year                        int64\n",
       "first_funding_at_year                 int32\n",
       "last_funding_at_year                  int32\n",
       "first_milestone_at_year               int32\n",
       "last_milestone_at_year                int32\n",
       "category_code_generalized            object\n",
       "category_code_Other                    bool\n",
       "category_code_advertising              bool\n",
       "category_code_biotech                  bool\n",
       "category_code_consulting               bool\n",
       "category_code_ecommerce                bool\n",
       "category_code_enterprise               bool\n",
       "category_code_games_video              bool\n",
       "category_code_mobile                   bool\n",
       "category_code_other                    bool\n",
       "category_code_software                 bool\n",
       "category_code_web                      bool\n",
       "country_code_generalized             object\n",
       "country_code_AUS                       bool\n",
       "country_code_CAN                       bool\n",
       "country_code_CHN                       bool\n",
       "country_code_DEU                       bool\n",
       "country_code_ESP                       bool\n",
       "country_code_FIN                       bool\n",
       "country_code_FRA                       bool\n",
       "country_code_GBR                       bool\n",
       "country_code_IND                       bool\n",
       "country_code_IRL                       bool\n",
       "country_code_ISR                       bool\n",
       "country_code_ITA                       bool\n",
       "country_code_NLD                       bool\n",
       "country_code_Other                     bool\n",
       "country_code_SWE                       bool\n",
       "country_code_USA                       bool\n",
       "isClosed                              int64\n",
       "active_days                         float64\n",
       "founded_at                   datetime64[ns]\n",
       "closed_at                    datetime64[ns]\n",
       "dtype: object"
      ]
     },
     "execution_count": 59,
     "metadata": {},
     "output_type": "execute_result"
    }
   ],
   "source": [
    "df.dtypes"
   ]
  },
  {
   "cell_type": "markdown",
   "metadata": {},
   "source": [
    "Save the encode file into csv:"
   ]
  },
  {
   "cell_type": "code",
   "execution_count": 61,
   "metadata": {},
   "outputs": [],
   "source": [
    "# Save the transformed DataFrame to a new CSV file\n",
    "cleaned_data_file = r\"D:\\Work Station\\startups\\data\\cleaned_data.csv\"\n",
    "df.to_csv(cleaned_data_file, index=False)"
   ]
  }
 ],
 "metadata": {
  "kernelspec": {
   "display_name": "mlops",
   "language": "python",
   "name": "python3"
  },
  "language_info": {
   "codemirror_mode": {
    "name": "ipython",
    "version": 3
   },
   "file_extension": ".py",
   "mimetype": "text/x-python",
   "name": "python",
   "nbconvert_exporter": "python",
   "pygments_lexer": "ipython3",
   "version": "3.12.4"
  }
 },
 "nbformat": 4,
 "nbformat_minor": 2
}
