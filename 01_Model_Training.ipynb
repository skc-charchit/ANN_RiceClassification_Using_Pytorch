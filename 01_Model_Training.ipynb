{
 "cells": [
  {
   "cell_type": "code",
   "execution_count": 13,
   "metadata": {},
   "outputs": [],
   "source": [
    "#Import Libraries\n",
    "from joblib import Parallel, delayed\n",
    "import pandas as pd\n",
    "import numpy as np\n",
    "from sklearn.model_selection import train_test_split, StratifiedKFold\n",
    "from sklearn.preprocessing import StandardScaler, MinMaxScaler\n",
    "from sklearn.preprocessing import LabelEncoder\n",
    "from sklearn.decomposition import PCA\n",
    "from sklearn.feature_selection import SelectKBest, f_classif, chi2\n",
    "from imblearn.over_sampling import SMOTE\n",
    "from sklearn.linear_model import LogisticRegression\n",
    "from sklearn.discriminant_analysis import QuadraticDiscriminantAnalysis as QDA\n",
    "from sklearn.neural_network import MLPClassifier\n",
    "from sklearn.ensemble import RandomForestClassifier, BaggingClassifier, GradientBoostingClassifier, AdaBoostClassifier\n",
    "from sklearn.svm import SVC\n",
    "from sklearn.neighbors import KNeighborsClassifier\n",
    "import xgboost as XGBClassifierb\n",
    "from sklearn.metrics import classification_report, accuracy_score, roc_auc_score, roc_curve, auc, confusion_matrix,precision_recall_fscore_support\n",
    "import optuna\n",
    "import matplotlib.pyplot as plt\n",
    "import seaborn as sns\n",
    "# from scipy.stats import ttest_ind\n",
    "import warnings\n",
    "warnings.filterwarnings(\"ignore\")"
   ]
  },
  {
   "cell_type": "code",
   "execution_count": 15,
   "metadata": {},
   "outputs": [
    {
     "data": {
      "text/html": [
       "<div>\n",
       "<style scoped>\n",
       "    .dataframe tbody tr th:only-of-type {\n",
       "        vertical-align: middle;\n",
       "    }\n",
       "\n",
       "    .dataframe tbody tr th {\n",
       "        vertical-align: top;\n",
       "    }\n",
       "\n",
       "    .dataframe thead th {\n",
       "        text-align: right;\n",
       "    }\n",
       "</style>\n",
       "<table border=\"1\" class=\"dataframe\">\n",
       "  <thead>\n",
       "    <tr style=\"text-align: right;\">\n",
       "      <th></th>\n",
       "      <th>status</th>\n",
       "      <th>first_investment_at</th>\n",
       "      <th>last_investment_at</th>\n",
       "      <th>investment_rounds</th>\n",
       "      <th>funding_rounds</th>\n",
       "      <th>funding_total_usd</th>\n",
       "      <th>milestones</th>\n",
       "      <th>relationships</th>\n",
       "      <th>lat</th>\n",
       "      <th>lng</th>\n",
       "      <th>...</th>\n",
       "      <th>country_code_ISR</th>\n",
       "      <th>country_code_ITA</th>\n",
       "      <th>country_code_NLD</th>\n",
       "      <th>country_code_Other</th>\n",
       "      <th>country_code_SWE</th>\n",
       "      <th>country_code_USA</th>\n",
       "      <th>isClosed</th>\n",
       "      <th>active_days</th>\n",
       "      <th>founded_at</th>\n",
       "      <th>closed_at</th>\n",
       "    </tr>\n",
       "  </thead>\n",
       "  <tbody>\n",
       "    <tr>\n",
       "      <th>0</th>\n",
       "      <td>operating</td>\n",
       "      <td>2009-01-01</td>\n",
       "      <td>2012-01-01</td>\n",
       "      <td>2.372057</td>\n",
       "      <td>3.00000</td>\n",
       "      <td>3.975000e+07</td>\n",
       "      <td>5.000000</td>\n",
       "      <td>17.000000</td>\n",
       "      <td>47.606209</td>\n",
       "      <td>-122.332071</td>\n",
       "      <td>...</td>\n",
       "      <td>False</td>\n",
       "      <td>False</td>\n",
       "      <td>False</td>\n",
       "      <td>False</td>\n",
       "      <td>False</td>\n",
       "      <td>True</td>\n",
       "      <td>1</td>\n",
       "      <td>5844.0</td>\n",
       "      <td>2005-01-01</td>\n",
       "      <td>2021-01-01</td>\n",
       "    </tr>\n",
       "    <tr>\n",
       "      <th>1</th>\n",
       "      <td>operating</td>\n",
       "      <td>2009-01-01</td>\n",
       "      <td>2012-01-01</td>\n",
       "      <td>2.372057</td>\n",
       "      <td>1.65976</td>\n",
       "      <td>1.481652e+07</td>\n",
       "      <td>1.199402</td>\n",
       "      <td>2.852067</td>\n",
       "      <td>37.564512</td>\n",
       "      <td>-52.123066</td>\n",
       "      <td>...</td>\n",
       "      <td>False</td>\n",
       "      <td>False</td>\n",
       "      <td>False</td>\n",
       "      <td>False</td>\n",
       "      <td>False</td>\n",
       "      <td>True</td>\n",
       "      <td>1</td>\n",
       "      <td>4749.0</td>\n",
       "      <td>2008-01-01</td>\n",
       "      <td>2021-01-01</td>\n",
       "    </tr>\n",
       "    <tr>\n",
       "      <th>2</th>\n",
       "      <td>operating</td>\n",
       "      <td>2009-01-01</td>\n",
       "      <td>2012-01-01</td>\n",
       "      <td>2.372057</td>\n",
       "      <td>1.65976</td>\n",
       "      <td>1.481652e+07</td>\n",
       "      <td>1.199402</td>\n",
       "      <td>2.852067</td>\n",
       "      <td>37.564512</td>\n",
       "      <td>-52.123066</td>\n",
       "      <td>...</td>\n",
       "      <td>False</td>\n",
       "      <td>False</td>\n",
       "      <td>False</td>\n",
       "      <td>False</td>\n",
       "      <td>False</td>\n",
       "      <td>True</td>\n",
       "      <td>1</td>\n",
       "      <td>4749.0</td>\n",
       "      <td>2008-01-01</td>\n",
       "      <td>2021-01-01</td>\n",
       "    </tr>\n",
       "    <tr>\n",
       "      <th>3</th>\n",
       "      <td>operating</td>\n",
       "      <td>2009-01-01</td>\n",
       "      <td>2012-01-01</td>\n",
       "      <td>2.372057</td>\n",
       "      <td>1.65976</td>\n",
       "      <td>1.481652e+07</td>\n",
       "      <td>1.199402</td>\n",
       "      <td>2.000000</td>\n",
       "      <td>30.427755</td>\n",
       "      <td>-9.598107</td>\n",
       "      <td>...</td>\n",
       "      <td>False</td>\n",
       "      <td>False</td>\n",
       "      <td>False</td>\n",
       "      <td>True</td>\n",
       "      <td>False</td>\n",
       "      <td>False</td>\n",
       "      <td>1</td>\n",
       "      <td>5114.0</td>\n",
       "      <td>2007-01-01</td>\n",
       "      <td>2021-01-01</td>\n",
       "    </tr>\n",
       "    <tr>\n",
       "      <th>4</th>\n",
       "      <td>operating</td>\n",
       "      <td>2009-01-01</td>\n",
       "      <td>2012-01-01</td>\n",
       "      <td>2.372057</td>\n",
       "      <td>1.65976</td>\n",
       "      <td>1.481652e+07</td>\n",
       "      <td>1.199402</td>\n",
       "      <td>2.852067</td>\n",
       "      <td>22.307159</td>\n",
       "      <td>73.181219</td>\n",
       "      <td>...</td>\n",
       "      <td>False</td>\n",
       "      <td>False</td>\n",
       "      <td>False</td>\n",
       "      <td>False</td>\n",
       "      <td>False</td>\n",
       "      <td>False</td>\n",
       "      <td>1</td>\n",
       "      <td>4749.0</td>\n",
       "      <td>2008-01-01</td>\n",
       "      <td>2021-01-01</td>\n",
       "    </tr>\n",
       "  </tbody>\n",
       "</table>\n",
       "<p>5 rows × 50 columns</p>\n",
       "</div>"
      ],
      "text/plain": [
       "      status first_investment_at last_investment_at  investment_rounds  \\\n",
       "0  operating          2009-01-01         2012-01-01           2.372057   \n",
       "1  operating          2009-01-01         2012-01-01           2.372057   \n",
       "2  operating          2009-01-01         2012-01-01           2.372057   \n",
       "3  operating          2009-01-01         2012-01-01           2.372057   \n",
       "4  operating          2009-01-01         2012-01-01           2.372057   \n",
       "\n",
       "   funding_rounds  funding_total_usd  milestones  relationships        lat  \\\n",
       "0         3.00000       3.975000e+07    5.000000      17.000000  47.606209   \n",
       "1         1.65976       1.481652e+07    1.199402       2.852067  37.564512   \n",
       "2         1.65976       1.481652e+07    1.199402       2.852067  37.564512   \n",
       "3         1.65976       1.481652e+07    1.199402       2.000000  30.427755   \n",
       "4         1.65976       1.481652e+07    1.199402       2.852067  22.307159   \n",
       "\n",
       "          lng  ...  country_code_ISR  country_code_ITA  country_code_NLD  \\\n",
       "0 -122.332071  ...             False             False             False   \n",
       "1  -52.123066  ...             False             False             False   \n",
       "2  -52.123066  ...             False             False             False   \n",
       "3   -9.598107  ...             False             False             False   \n",
       "4   73.181219  ...             False             False             False   \n",
       "\n",
       "   country_code_Other  country_code_SWE  country_code_USA  isClosed  \\\n",
       "0               False             False              True         1   \n",
       "1               False             False              True         1   \n",
       "2               False             False              True         1   \n",
       "3                True             False             False         1   \n",
       "4               False             False             False         1   \n",
       "\n",
       "  active_days  founded_at   closed_at  \n",
       "0      5844.0  2005-01-01  2021-01-01  \n",
       "1      4749.0  2008-01-01  2021-01-01  \n",
       "2      4749.0  2008-01-01  2021-01-01  \n",
       "3      5114.0  2007-01-01  2021-01-01  \n",
       "4      4749.0  2008-01-01  2021-01-01  \n",
       "\n",
       "[5 rows x 50 columns]"
      ]
     },
     "execution_count": 15,
     "metadata": {},
     "output_type": "execute_result"
    }
   ],
   "source": [
    "df = pd.read_csv(r'D:\\Work Station\\startups\\data\\cleaned_data.csv')\n",
    "df.head()"
   ]
  },
  {
   "cell_type": "markdown",
   "metadata": {},
   "source": [
    "Target and Feature Columns"
   ]
  },
  {
   "cell_type": "code",
   "execution_count": 10,
   "metadata": {},
   "outputs": [],
   "source": [
    "X = df.drop('active_days', axis=1)\n",
    "y = df['active_days']"
   ]
  },
  {
   "cell_type": "code",
   "execution_count": 12,
   "metadata": {},
   "outputs": [
    {
     "data": {
      "text/plain": [
       "active_days\n",
       " 1     116180\n",
       " 0      10697\n",
       " 2      10421\n",
       " 3       8998\n",
       " 4       7325\n",
       "        ...  \n",
       "-6          3\n",
       "-40         1\n",
       "-7          1\n",
       "-25         1\n",
       "-9          1\n",
       "Name: count, Length: 124, dtype: int64"
      ]
     },
     "execution_count": 12,
     "metadata": {},
     "output_type": "execute_result"
    }
   ],
   "source": [
    "df.active_days.value_counts()"
   ]
  },
  {
   "cell_type": "markdown",
   "metadata": {},
   "source": [
    "Using SOMTE and Data Split into train, validation, and test sets"
   ]
  },
  {
   "cell_type": "code",
   "execution_count": 11,
   "metadata": {},
   "outputs": [
    {
     "ename": "ValueError",
     "evalue": "The least populated class in y has only 1 member, which is too few. The minimum number of groups for any class cannot be less than 2.",
     "output_type": "error",
     "traceback": [
      "\u001b[1;31m---------------------------------------------------------------------------\u001b[0m",
      "\u001b[1;31mValueError\u001b[0m                                Traceback (most recent call last)",
      "Cell \u001b[1;32mIn[11], line 19\u001b[0m\n\u001b[0;32m     15\u001b[0m     X_train_smote, y_train_smote \u001b[38;5;241m=\u001b[39m smote\u001b[38;5;241m.\u001b[39mfit_resample(X_train, y_train)\n\u001b[0;32m     17\u001b[0m     \u001b[38;5;28;01mreturn\u001b[39;00m X_train_smote, X_val, X_test, y_train_smote, y_val, y_test\n\u001b[1;32m---> 19\u001b[0m X_train_smote, X_val, X_test, y_train_smote, y_val, y_test \u001b[38;5;241m=\u001b[39m \u001b[43msplit_data_with_smote\u001b[49m\u001b[43m(\u001b[49m\u001b[43mX\u001b[49m\u001b[43m,\u001b[49m\u001b[43m \u001b[49m\u001b[43my\u001b[49m\u001b[43m)\u001b[49m\n",
      "Cell \u001b[1;32mIn[11], line 3\u001b[0m, in \u001b[0;36msplit_data_with_smote\u001b[1;34m(X, y, test_size, val_size)\u001b[0m\n\u001b[0;32m      1\u001b[0m \u001b[38;5;28;01mdef\u001b[39;00m \u001b[38;5;21msplit_data_with_smote\u001b[39m(X, y, test_size\u001b[38;5;241m=\u001b[39m\u001b[38;5;241m0.2\u001b[39m, val_size\u001b[38;5;241m=\u001b[39m\u001b[38;5;241m0.2\u001b[39m):\n\u001b[1;32m----> 3\u001b[0m     X_train_val, X_test, y_train_val, y_test \u001b[38;5;241m=\u001b[39m \u001b[43mtrain_test_split\u001b[49m\u001b[43m(\u001b[49m\n\u001b[0;32m      4\u001b[0m \u001b[43m        \u001b[49m\u001b[43mX\u001b[49m\u001b[43m,\u001b[49m\u001b[43m \u001b[49m\u001b[43my\u001b[49m\u001b[43m,\u001b[49m\u001b[43m \u001b[49m\u001b[43mtest_size\u001b[49m\u001b[38;5;241;43m=\u001b[39;49m\u001b[43mtest_size\u001b[49m\u001b[43m,\u001b[49m\u001b[43m \u001b[49m\u001b[43mrandom_state\u001b[49m\u001b[38;5;241;43m=\u001b[39;49m\u001b[38;5;241;43m42\u001b[39;49m\u001b[43m,\u001b[49m\u001b[43m \u001b[49m\u001b[43mstratify\u001b[49m\u001b[38;5;241;43m=\u001b[39;49m\u001b[43my\u001b[49m\n\u001b[0;32m      5\u001b[0m \u001b[43m    \u001b[49m\u001b[43m)\u001b[49m\n\u001b[0;32m      8\u001b[0m     val_proportion \u001b[38;5;241m=\u001b[39m val_size \u001b[38;5;241m/\u001b[39m (\u001b[38;5;241m1\u001b[39m \u001b[38;5;241m-\u001b[39m test_size)\n\u001b[0;32m      9\u001b[0m     X_train, X_val, y_train, y_val \u001b[38;5;241m=\u001b[39m train_test_split(\n\u001b[0;32m     10\u001b[0m         X_train_val, y_train_val, test_size\u001b[38;5;241m=\u001b[39mval_proportion, random_state\u001b[38;5;241m=\u001b[39m\u001b[38;5;241m42\u001b[39m, stratify\u001b[38;5;241m=\u001b[39my_train_val\n\u001b[0;32m     11\u001b[0m     )\n",
      "File \u001b[1;32mc:\\Users\\ASUS\\.conda\\envs\\mlops\\Lib\\site-packages\\sklearn\\utils\\_param_validation.py:213\u001b[0m, in \u001b[0;36mvalidate_params.<locals>.decorator.<locals>.wrapper\u001b[1;34m(*args, **kwargs)\u001b[0m\n\u001b[0;32m    207\u001b[0m \u001b[38;5;28;01mtry\u001b[39;00m:\n\u001b[0;32m    208\u001b[0m     \u001b[38;5;28;01mwith\u001b[39;00m config_context(\n\u001b[0;32m    209\u001b[0m         skip_parameter_validation\u001b[38;5;241m=\u001b[39m(\n\u001b[0;32m    210\u001b[0m             prefer_skip_nested_validation \u001b[38;5;129;01mor\u001b[39;00m global_skip_validation\n\u001b[0;32m    211\u001b[0m         )\n\u001b[0;32m    212\u001b[0m     ):\n\u001b[1;32m--> 213\u001b[0m         \u001b[38;5;28;01mreturn\u001b[39;00m \u001b[43mfunc\u001b[49m\u001b[43m(\u001b[49m\u001b[38;5;241;43m*\u001b[39;49m\u001b[43margs\u001b[49m\u001b[43m,\u001b[49m\u001b[43m \u001b[49m\u001b[38;5;241;43m*\u001b[39;49m\u001b[38;5;241;43m*\u001b[39;49m\u001b[43mkwargs\u001b[49m\u001b[43m)\u001b[49m\n\u001b[0;32m    214\u001b[0m \u001b[38;5;28;01mexcept\u001b[39;00m InvalidParameterError \u001b[38;5;28;01mas\u001b[39;00m e:\n\u001b[0;32m    215\u001b[0m     \u001b[38;5;66;03m# When the function is just a wrapper around an estimator, we allow\u001b[39;00m\n\u001b[0;32m    216\u001b[0m     \u001b[38;5;66;03m# the function to delegate validation to the estimator, but we replace\u001b[39;00m\n\u001b[0;32m    217\u001b[0m     \u001b[38;5;66;03m# the name of the estimator by the name of the function in the error\u001b[39;00m\n\u001b[0;32m    218\u001b[0m     \u001b[38;5;66;03m# message to avoid confusion.\u001b[39;00m\n\u001b[0;32m    219\u001b[0m     msg \u001b[38;5;241m=\u001b[39m re\u001b[38;5;241m.\u001b[39msub(\n\u001b[0;32m    220\u001b[0m         \u001b[38;5;124mr\u001b[39m\u001b[38;5;124m\"\u001b[39m\u001b[38;5;124mparameter of \u001b[39m\u001b[38;5;124m\\\u001b[39m\u001b[38;5;124mw+ must be\u001b[39m\u001b[38;5;124m\"\u001b[39m,\n\u001b[0;32m    221\u001b[0m         \u001b[38;5;124mf\u001b[39m\u001b[38;5;124m\"\u001b[39m\u001b[38;5;124mparameter of \u001b[39m\u001b[38;5;132;01m{\u001b[39;00mfunc\u001b[38;5;241m.\u001b[39m\u001b[38;5;18m__qualname__\u001b[39m\u001b[38;5;132;01m}\u001b[39;00m\u001b[38;5;124m must be\u001b[39m\u001b[38;5;124m\"\u001b[39m,\n\u001b[0;32m    222\u001b[0m         \u001b[38;5;28mstr\u001b[39m(e),\n\u001b[0;32m    223\u001b[0m     )\n",
      "File \u001b[1;32mc:\\Users\\ASUS\\.conda\\envs\\mlops\\Lib\\site-packages\\sklearn\\model_selection\\_split.py:2801\u001b[0m, in \u001b[0;36mtrain_test_split\u001b[1;34m(test_size, train_size, random_state, shuffle, stratify, *arrays)\u001b[0m\n\u001b[0;32m   2797\u001b[0m         CVClass \u001b[38;5;241m=\u001b[39m ShuffleSplit\n\u001b[0;32m   2799\u001b[0m     cv \u001b[38;5;241m=\u001b[39m CVClass(test_size\u001b[38;5;241m=\u001b[39mn_test, train_size\u001b[38;5;241m=\u001b[39mn_train, random_state\u001b[38;5;241m=\u001b[39mrandom_state)\n\u001b[1;32m-> 2801\u001b[0m     train, test \u001b[38;5;241m=\u001b[39m \u001b[38;5;28;43mnext\u001b[39;49m\u001b[43m(\u001b[49m\u001b[43mcv\u001b[49m\u001b[38;5;241;43m.\u001b[39;49m\u001b[43msplit\u001b[49m\u001b[43m(\u001b[49m\u001b[43mX\u001b[49m\u001b[38;5;241;43m=\u001b[39;49m\u001b[43marrays\u001b[49m\u001b[43m[\u001b[49m\u001b[38;5;241;43m0\u001b[39;49m\u001b[43m]\u001b[49m\u001b[43m,\u001b[49m\u001b[43m \u001b[49m\u001b[43my\u001b[49m\u001b[38;5;241;43m=\u001b[39;49m\u001b[43mstratify\u001b[49m\u001b[43m)\u001b[49m\u001b[43m)\u001b[49m\n\u001b[0;32m   2803\u001b[0m train, test \u001b[38;5;241m=\u001b[39m ensure_common_namespace_device(arrays[\u001b[38;5;241m0\u001b[39m], train, test)\n\u001b[0;32m   2805\u001b[0m \u001b[38;5;28;01mreturn\u001b[39;00m \u001b[38;5;28mlist\u001b[39m(\n\u001b[0;32m   2806\u001b[0m     chain\u001b[38;5;241m.\u001b[39mfrom_iterable(\n\u001b[0;32m   2807\u001b[0m         (_safe_indexing(a, train), _safe_indexing(a, test)) \u001b[38;5;28;01mfor\u001b[39;00m a \u001b[38;5;129;01min\u001b[39;00m arrays\n\u001b[0;32m   2808\u001b[0m     )\n\u001b[0;32m   2809\u001b[0m )\n",
      "File \u001b[1;32mc:\\Users\\ASUS\\.conda\\envs\\mlops\\Lib\\site-packages\\sklearn\\model_selection\\_split.py:1843\u001b[0m, in \u001b[0;36mBaseShuffleSplit.split\u001b[1;34m(self, X, y, groups)\u001b[0m\n\u001b[0;32m   1813\u001b[0m \u001b[38;5;250m\u001b[39m\u001b[38;5;124;03m\"\"\"Generate indices to split data into training and test set.\u001b[39;00m\n\u001b[0;32m   1814\u001b[0m \n\u001b[0;32m   1815\u001b[0m \u001b[38;5;124;03mParameters\u001b[39;00m\n\u001b[1;32m   (...)\u001b[0m\n\u001b[0;32m   1840\u001b[0m \u001b[38;5;124;03mto an integer.\u001b[39;00m\n\u001b[0;32m   1841\u001b[0m \u001b[38;5;124;03m\"\"\"\u001b[39;00m\n\u001b[0;32m   1842\u001b[0m X, y, groups \u001b[38;5;241m=\u001b[39m indexable(X, y, groups)\n\u001b[1;32m-> 1843\u001b[0m \u001b[43m\u001b[49m\u001b[38;5;28;43;01mfor\u001b[39;49;00m\u001b[43m \u001b[49m\u001b[43mtrain\u001b[49m\u001b[43m,\u001b[49m\u001b[43m \u001b[49m\u001b[43mtest\u001b[49m\u001b[43m \u001b[49m\u001b[38;5;129;43;01min\u001b[39;49;00m\u001b[43m \u001b[49m\u001b[38;5;28;43mself\u001b[39;49m\u001b[38;5;241;43m.\u001b[39;49m\u001b[43m_iter_indices\u001b[49m\u001b[43m(\u001b[49m\u001b[43mX\u001b[49m\u001b[43m,\u001b[49m\u001b[43m \u001b[49m\u001b[43my\u001b[49m\u001b[43m,\u001b[49m\u001b[43m \u001b[49m\u001b[43mgroups\u001b[49m\u001b[43m)\u001b[49m\u001b[43m:\u001b[49m\n\u001b[0;32m   1844\u001b[0m \u001b[43m    \u001b[49m\u001b[38;5;28;43;01myield\u001b[39;49;00m\u001b[43m \u001b[49m\u001b[43mtrain\u001b[49m\u001b[43m,\u001b[49m\u001b[43m \u001b[49m\u001b[43mtest\u001b[49m\n",
      "File \u001b[1;32mc:\\Users\\ASUS\\.conda\\envs\\mlops\\Lib\\site-packages\\sklearn\\model_selection\\_split.py:2247\u001b[0m, in \u001b[0;36mStratifiedShuffleSplit._iter_indices\u001b[1;34m(self, X, y, groups)\u001b[0m\n\u001b[0;32m   2245\u001b[0m class_counts \u001b[38;5;241m=\u001b[39m np\u001b[38;5;241m.\u001b[39mbincount(y_indices)\n\u001b[0;32m   2246\u001b[0m \u001b[38;5;28;01mif\u001b[39;00m np\u001b[38;5;241m.\u001b[39mmin(class_counts) \u001b[38;5;241m<\u001b[39m \u001b[38;5;241m2\u001b[39m:\n\u001b[1;32m-> 2247\u001b[0m     \u001b[38;5;28;01mraise\u001b[39;00m \u001b[38;5;167;01mValueError\u001b[39;00m(\n\u001b[0;32m   2248\u001b[0m         \u001b[38;5;124m\"\u001b[39m\u001b[38;5;124mThe least populated class in y has only 1\u001b[39m\u001b[38;5;124m\"\u001b[39m\n\u001b[0;32m   2249\u001b[0m         \u001b[38;5;124m\"\u001b[39m\u001b[38;5;124m member, which is too few. The minimum\u001b[39m\u001b[38;5;124m\"\u001b[39m\n\u001b[0;32m   2250\u001b[0m         \u001b[38;5;124m\"\u001b[39m\u001b[38;5;124m number of groups for any class cannot\u001b[39m\u001b[38;5;124m\"\u001b[39m\n\u001b[0;32m   2251\u001b[0m         \u001b[38;5;124m\"\u001b[39m\u001b[38;5;124m be less than 2.\u001b[39m\u001b[38;5;124m\"\u001b[39m\n\u001b[0;32m   2252\u001b[0m     )\n\u001b[0;32m   2254\u001b[0m \u001b[38;5;28;01mif\u001b[39;00m n_train \u001b[38;5;241m<\u001b[39m n_classes:\n\u001b[0;32m   2255\u001b[0m     \u001b[38;5;28;01mraise\u001b[39;00m \u001b[38;5;167;01mValueError\u001b[39;00m(\n\u001b[0;32m   2256\u001b[0m         \u001b[38;5;124m\"\u001b[39m\u001b[38;5;124mThe train_size = \u001b[39m\u001b[38;5;132;01m%d\u001b[39;00m\u001b[38;5;124m should be greater or \u001b[39m\u001b[38;5;124m\"\u001b[39m\n\u001b[0;32m   2257\u001b[0m         \u001b[38;5;124m\"\u001b[39m\u001b[38;5;124mequal to the number of classes = \u001b[39m\u001b[38;5;132;01m%d\u001b[39;00m\u001b[38;5;124m\"\u001b[39m \u001b[38;5;241m%\u001b[39m (n_train, n_classes)\n\u001b[0;32m   2258\u001b[0m     )\n",
      "\u001b[1;31mValueError\u001b[0m: The least populated class in y has only 1 member, which is too few. The minimum number of groups for any class cannot be less than 2."
     ]
    }
   ],
   "source": [
    "def split_data_with_smote(X, y, test_size=0.2, val_size=0.2):\n",
    "    \n",
    "    X_train_val, X_test, y_train_val, y_test = train_test_split(\n",
    "        X, y, test_size=test_size, random_state=42, stratify=y\n",
    "    )\n",
    "    \n",
    "    \n",
    "    val_proportion = val_size / (1 - test_size)\n",
    "    X_train, X_val, y_train, y_val = train_test_split(\n",
    "        X_train_val, y_train_val, test_size=val_proportion, random_state=42, stratify=y_train_val\n",
    "    )\n",
    "    \n",
    "    # Apply SMOTE to the training data only\n",
    "    smote = SMOTE(random_state=42)\n",
    "    X_train_smote, y_train_smote = smote.fit_resample(X_train, y_train)\n",
    "    \n",
    "    return X_train_smote, X_val, X_test, y_train_smote, y_val, y_test\n",
    "\n",
    "X_train_smote, X_val, X_test, y_train_smote, y_val, y_test = split_data_with_smote(X, y)"
   ]
  },
  {
   "cell_type": "markdown",
   "metadata": {},
   "source": [
    "Feature Scaling using Standard Scalar"
   ]
  },
  {
   "cell_type": "code",
   "execution_count": null,
   "metadata": {},
   "outputs": [],
   "source": [
    "# Initialize the StandardScaler\n",
    "scaler = StandardScaler()\n",
    "\n",
    "# Fit the scaler on the SMOTE-transformed training data and transform it\n",
    "X_train_scaled = scaler.fit_transform(X_train_smote)"
   ]
  },
  {
   "cell_type": "code",
   "execution_count": null,
   "metadata": {},
   "outputs": [],
   "source": [
    "# Transform the validation and test sets using the same scaler\n",
    "X_val_scaled = scaler.transform(X_val)\n",
    "X_test_scaled = scaler.transform(X_test)"
   ]
  },
  {
   "cell_type": "markdown",
   "metadata": {},
   "source": [
    "Model Selection"
   ]
  },
  {
   "cell_type": "code",
   "execution_count": null,
   "metadata": {},
   "outputs": [],
   "source": [
    "from xgboost import XGBClassifier  # Import XGBClassifier\n",
    "\n",
    "\n",
    "# Define models\n",
    "models = {\n",
    "    \"Logistic Regression\": LogisticRegression(solver='liblinear', random_state=42),\n",
    "    \"Gaussian Discriminant Analysis (GDA)\": QDA(),\n",
    "    \"Feed Forward Neural Network\": MLPClassifier(random_state=42),\n",
    "    \"Random Forest\": RandomForestClassifier(random_state=42),\n",
    "    \"XGBoost\": XGBClassifier(random_state=42) \n",
    "}"
   ]
  },
  {
   "cell_type": "markdown",
   "metadata": {},
   "source": [
    "Evaluating Models"
   ]
  },
  {
   "cell_type": "code",
   "execution_count": null,
   "metadata": {},
   "outputs": [],
   "source": [
    "def evaluate_model(name, model, X_val_scaled, y_val):\n",
    "    # Fit the model\n",
    "    model.fit(X_train_scaled, y_train_smote)\n",
    "    \n",
    "    # Predict on validation set\n",
    "    y_val_pred = model.predict(X_val_scaled)\n",
    "    \n",
    "    # Calculate probabilities if the model supports it\n",
    "    y_val_proba = None\n",
    "    if hasattr(model, \"predict_proba\"):\n",
    "        y_val_proba = model.predict_proba(X_val_scaled)\n",
    "    \n",
    "    # Classification report\n",
    "    report = classification_report(y_val, y_val_pred, output_dict=True)\n",
    "    \n",
    "    # Precision, Recall, F1-Score\n",
    "    precision, recall, f1, _ = precision_recall_fscore_support(y_val, y_val_pred, average='weighted')\n",
    "    \n",
    "    # AUC ROC Score\n",
    "    auc_roc = None\n",
    "    if y_val_proba is not None:\n",
    "        try:\n",
    "            auc_roc = roc_auc_score(y_val, y_val_proba, multi_class='ovr')\n",
    "        except ValueError:\n",
    "            auc_roc = None  # Handle models that don't support probability prediction\n",
    "    \n",
    "    # Confusion Matrix\n",
    "    conf_matrix = confusion_matrix(y_val, y_val_pred)\n",
    "    \n",
    "    return {\n",
    "        'Model': name,\n",
    "        'Precision': precision,\n",
    "        'Recall': recall,\n",
    "        'F1 Score': f1,\n",
    "        'AUC ROC': auc_roc,\n",
    "        'Classification Report': report,\n",
    "        'Confusion Matrix': conf_matrix\n",
    "    }"
   ]
  },
  {
   "cell_type": "code",
   "execution_count": null,
   "metadata": {},
   "outputs": [
    {
     "name": "stdout",
     "output_type": "stream",
     "text": [
      "Evaluating Logistic Regression...\n",
      "Results for Logistic Regression:\n",
      "Precision: 0.9222367317855464\n",
      "Recall: 0.7203327312965837\n",
      "F1 Score: 0.7926451806568797\n",
      "AUC ROC: None\n",
      "Confusion Matrix:\n",
      "[[ 1658   738]\n",
      " [10256 26659]]\n",
      "Classification Report:\n",
      "{'0': {'precision': 0.13916400872922613, 'recall': 0.6919866444073456, 'f1-score': 0.23172606568832985, 'support': 2396.0}, '1': {'precision': 0.973062744096069, 'recall': 0.7221725585805229, 'f1-score': 0.829052120910561, 'support': 36915.0}, 'accuracy': 0.7203327312965837, 'macro avg': {'precision': 0.5561133764126476, 'recall': 0.7070796014939342, 'f1-score': 0.5303890932994454, 'support': 39311.0}, 'weighted avg': {'precision': 0.9222367317855464, 'recall': 0.7203327312965837, 'f1-score': 0.7926451806568797, 'support': 39311.0}}\n",
      "\n",
      "================================================================================================================================ \n",
      "\n",
      "Evaluating Gaussian Discriminant Analysis (GDA)...\n",
      "Results for Gaussian Discriminant Analysis (GDA):\n",
      "Precision: 0.9476222940332999\n",
      "Recall: 0.9497596092696701\n",
      "F1 Score: 0.9342072478130714\n",
      "AUC ROC: None\n",
      "Confusion Matrix:\n",
      "[[  470  1926]\n",
      " [   49 36866]]\n",
      "Classification Report:\n",
      "{'0': {'precision': 0.905587668593449, 'recall': 0.19616026711185308, 'f1-score': 0.32246998284734135, 'support': 2396.0}, '1': {'precision': 0.9503505877500515, 'recall': 0.9986726263036706, 'f1-score': 0.9739125840411058, 'support': 36915.0}, 'accuracy': 0.9497596092696701, 'macro avg': {'precision': 0.9279691281717503, 'recall': 0.5974164467077618, 'f1-score': 0.6481912834442236, 'support': 39311.0}, 'weighted avg': {'precision': 0.9476222940332999, 'recall': 0.9497596092696701, 'f1-score': 0.9342072478130714, 'support': 39311.0}}\n",
      "\n",
      "================================================================================================================================ \n",
      "\n",
      "Evaluating Feed Forward Neural Network...\n",
      "Results for Feed Forward Neural Network:\n",
      "Precision: 0.9326309636680884\n",
      "Recall: 0.869146040548447\n",
      "F1 Score: 0.893599135895657\n",
      "AUC ROC: None\n",
      "Confusion Matrix:\n",
      "[[ 1587   809]\n",
      " [ 4335 32580]]\n",
      "Classification Report:\n",
      "{'0': {'precision': 0.267983789260385, 'recall': 0.6623539232053423, 'f1-score': 0.38158211108439527, 'support': 2396.0}, '1': {'precision': 0.9757704633262452, 'recall': 0.8825680617635108, 'f1-score': 0.9268320436959491, 'support': 36915.0}, 'accuracy': 0.869146040548447, 'macro avg': {'precision': 0.6218771262933152, 'recall': 0.7724609924844266, 'f1-score': 0.6542070773901721, 'support': 39311.0}, 'weighted avg': {'precision': 0.9326309636680884, 'recall': 0.869146040548447, 'f1-score': 0.893599135895657, 'support': 39311.0}}\n",
      "\n",
      "================================================================================================================================ \n",
      "\n",
      "Evaluating Random Forest...\n",
      "Results for Random Forest:\n",
      "Precision: 0.9287300747509768\n",
      "Recall: 0.9123654956627916\n",
      "F1 Score: 0.9195476610950697\n",
      "AUC ROC: None\n",
      "Confusion Matrix:\n",
      "[[ 1193  1203]\n",
      " [ 2242 34673]]\n",
      "Classification Report:\n",
      "{'0': {'precision': 0.3473071324599709, 'recall': 0.49791318864774625, 'f1-score': 0.4091922483279026, 'support': 2396.0}, '1': {'precision': 0.9664678336492363, 'recall': 0.9392658810781526, 'f1-score': 0.9526727205286368, 'support': 36915.0}, 'accuracy': 0.9123654956627916, 'macro avg': {'precision': 0.6568874830546036, 'recall': 0.7185895348629494, 'f1-score': 0.6809324844282697, 'support': 39311.0}, 'weighted avg': {'precision': 0.9287300747509768, 'recall': 0.9123654956627916, 'f1-score': 0.9195476610950697, 'support': 39311.0}}\n",
      "\n",
      "================================================================================================================================ \n",
      "\n",
      "Evaluating XGBoost...\n",
      "Results for XGBoost:\n",
      "Precision: 0.9344075133854769\n",
      "Recall: 0.9215486759431203\n",
      "F1 Score: 0.9271612813251019\n",
      "AUC ROC: None\n",
      "Confusion Matrix:\n",
      "[[ 1294  1102]\n",
      " [ 1982 34933]]\n",
      "Classification Report:\n",
      "{'0': {'precision': 0.394993894993895, 'recall': 0.5400667779632721, 'f1-score': 0.45627644569816644, 'support': 2396.0}, '1': {'precision': 0.9694186207853476, 'recall': 0.946309088446431, 'f1-score': 0.9577244688142563, 'support': 36915.0}, 'accuracy': 0.9215486759431203, 'macro avg': {'precision': 0.6822062578896213, 'recall': 0.7431879332048515, 'f1-score': 0.7070004572562114, 'support': 39311.0}, 'weighted avg': {'precision': 0.9344075133854769, 'recall': 0.9215486759431203, 'f1-score': 0.9271612813251019, 'support': 39311.0}}\n",
      "\n",
      "================================================================================================================================ \n",
      "\n"
     ]
    }
   ],
   "source": [
    "results = []\n",
    "for name, model in models.items():\n",
    "    print(f\"Evaluating {name}...\")\n",
    "    result = evaluate_model(name, model, X_val_scaled, y_val)\n",
    "    results.append(result)\n",
    "    print(f\"Results for {name}:\")\n",
    "    print(f\"Precision: {result['Precision']}\")\n",
    "    print(f\"Recall: {result['Recall']}\")\n",
    "    print(f\"F1 Score: {result['F1 Score']}\")\n",
    "    print(f\"AUC ROC: {result['AUC ROC']}\")\n",
    "    print(f\"Confusion Matrix:\\n{result['Confusion Matrix']}\")\n",
    "    print(f\"Classification Report:\\n{result['Classification Report']}\\n\")\n",
    "    print(\"================================================================================================================================ \\n\")"
   ]
  },
  {
   "cell_type": "code",
   "execution_count": null,
   "metadata": {},
   "outputs": [
    {
     "name": "stdout",
     "output_type": "stream",
     "text": [
      "                             Model Name  Precision    Recall  F1 Score AUC ROC\n",
      "0                   Logistic Regression   0.922237  0.720333  0.792645    None\n",
      "1  Gaussian Discriminant Analysis (GDA)   0.947622  0.949760  0.934207    None\n",
      "2           Feed Forward Neural Network   0.932631  0.869146  0.893599    None\n",
      "3                         Random Forest   0.928730  0.912365  0.919548    None\n",
      "4                               XGBoost   0.934408  0.921549  0.927161    None\n"
     ]
    }
   ],
   "source": [
    "# Extract model names and their corresponding metrics\n",
    "model_names = [result['Model'] for result in results]\n",
    "precisions = [result['Precision'] for result in results]\n",
    "recalls = [result['Recall'] for result in results]\n",
    "f1_scores = [result['F1 Score'] for result in results]\n",
    "auc_roc_scores = [result['AUC ROC'] for result in results]\n",
    "\n",
    "# Create a DataFrame to include all performance metrics\n",
    "results_df = pd.DataFrame({\n",
    "    'Model Name': model_names,\n",
    "    'Precision': precisions,\n",
    "    'Recall': recalls,\n",
    "    'F1 Score': f1_scores,\n",
    "    'AUC ROC': auc_roc_scores\n",
    "}).sort_values(by=[\"AUC ROC\"], ascending=False)\n",
    "\n",
    "# Print the sorted DataFrame\n",
    "print(results_df)"
   ]
  },
  {
   "cell_type": "markdown",
   "metadata": {},
   "source": [
    "We chose GDA for the Tesing Phase as it gives more accurate results."
   ]
  },
  {
   "cell_type": "code",
   "execution_count": null,
   "metadata": {},
   "outputs": [
    {
     "name": "stdout",
     "output_type": "stream",
     "text": [
      "AUC ROC could not be calculated for the test set.\n",
      "Classification Report for Test Set:\n",
      "\n",
      "              precision    recall  f1-score   support\n",
      "\n",
      "           0       0.89      0.19      0.31      2396\n",
      "           1       0.95      1.00      0.97     36915\n",
      "\n",
      "    accuracy                           0.95     39311\n",
      "   macro avg       0.92      0.59      0.64     39311\n",
      "weighted avg       0.95      0.95      0.93     39311\n",
      "\n",
      "\n",
      "Confusion Matrix for Test Set:\n",
      " [[  444  1952]\n",
      " [   57 36858]]\n"
     ]
    }
   ],
   "source": [
    "from sklearn.discriminant_analysis import QuadraticDiscriminantAnalysis as QDA\n",
    "from sklearn.metrics import classification_report, roc_auc_score, confusion_matrix\n",
    "\n",
    "# Define the Gaussian Discriminant Analysis (GDA) model\n",
    "best_model = QDA()\n",
    "\n",
    "# Fit the model on the training set\n",
    "best_model.fit(X_train_scaled, y_train_smote)\n",
    "\n",
    "# Predict on the test set\n",
    "y_test_pred = best_model.predict(X_test_scaled)\n",
    "\n",
    "# Predict probabilities for ROC AUC curve\n",
    "try:\n",
    "    y_test_proba = best_model.predict_proba(X_test_scaled)\n",
    "    # Calculate AUC ROC for the test set\n",
    "    auc_roc_test = roc_auc_score(y_test, y_test_proba, multi_class='ovr')\n",
    "    print(f\"AUC ROC Score for Test Set: {auc_roc_test:.4f}\")\n",
    "except (ValueError, AttributeError):\n",
    "    # Handle models that don't support probability prediction\n",
    "    auc_roc_test = None\n",
    "    print(\"AUC ROC could not be calculated for the test set.\")\n",
    "\n",
    "# Evaluate the model on the test set\n",
    "test_report = classification_report(y_test, y_test_pred)\n",
    "print(\"Classification Report for Test Set:\\n\")\n",
    "print(test_report)\n",
    "\n",
    "# Confusion Matrix\n",
    "conf_matrix_test = confusion_matrix(y_test, y_test_pred)\n",
    "print(\"\\nConfusion Matrix for Test Set:\\n\", conf_matrix_test)\n"
   ]
  },
  {
   "cell_type": "markdown",
   "metadata": {},
   "source": [
    "Visualization of the Best Model's Performance"
   ]
  },
  {
   "cell_type": "code",
   "execution_count": null,
   "metadata": {},
   "outputs": [
    {
     "data": {
      "image/png": "[encoded data removed]",
      "text/plain": [
       "<Figure size 800x600 with 2 Axes>"
      ]
     },
     "metadata": {},
     "output_type": "display_data"
    },
    {
     "data": {
      "image/png": "[encoded data removed]",
      "text/plain": [
       "<Figure size 1000x800 with 1 Axes>"
      ]
     },
     "metadata": {},
     "output_type": "display_data"
    }
   ],
   "source": [
    "# Visualization of the Confusion Matrix\n",
    "plt.figure(figsize=(8, 6))\n",
    "sns.heatmap(conf_matrix_test, annot=True, fmt='d', cmap='Blues', \n",
    "            xticklabels=best_model.classes_, yticklabels=best_model.classes_)\n",
    "plt.xlabel('Predicted')\n",
    "plt.ylabel('True')\n",
    "plt.title('Confusion Matrix for Test Set')\n",
    "plt.show()\n",
    "\n",
    "# ROC Curve Visualization\n",
    "n_classes = y_test_proba.shape[1]\n",
    "fpr = {}\n",
    "tpr = {}\n",
    "roc_auc = {}\n",
    "\n",
    "for i in range(n_classes):\n",
    "    fpr[i], tpr[i], _ = roc_curve(y_test == i, y_test_proba[:, i])\n",
    "    roc_auc[i] = auc(fpr[i], tpr[i])\n",
    "\n",
    "plt.figure(figsize=(10, 8))\n",
    "for i in range(n_classes):\n",
    "    plt.plot(fpr[i], tpr[i], label=f'Class {i} (area = {roc_auc[i]:.2f})')\n",
    "\n",
    "plt.plot([0, 1], [0, 1], 'k--', lw=2)\n",
    "plt.xlim([0.0, 1.0])\n",
    "plt.ylim([0.0, 1.05])\n",
    "plt.xlabel('False Positive Rate')\n",
    "plt.ylabel('True Positive Rate')\n",
    "plt.title('Receiver Operating Characteristic (ROC) Curve')\n",
    "plt.legend(loc='lower right')\n",
    "plt.show()"
   ]
  },
  {
   "cell_type": "markdown",
   "metadata": {},
   "source": [
    "Saving the best model"
   ]
  },
  {
   "cell_type": "code",
   "execution_count": null,
   "metadata": {},
   "outputs": [
    {
     "name": "stdout",
     "output_type": "stream",
     "text": [
      "Model saved to best_model.pkl\n"
     ]
    }
   ],
   "source": [
    "import pickle\n",
    "\n",
    "# Save the model to a pickle file\n",
    "model_filename = 'best_model.pkl'\n",
    "with open(model_filename, 'wb') as file:\n",
    "    pickle.dump(best_model, file)\n",
    "\n",
    "print(f\"Model saved to {model_filename}\")"
   ]
  }
 ],
 "metadata": {
  "kernelspec": {
   "display_name": "mlops",
   "language": "python",
   "name": "python3"
  },
  "language_info": {
   "codemirror_mode": {
    "name": "ipython",
    "version": 3
   },
   "file_extension": ".py",
   "mimetype": "text/x-python",
   "name": "python",
   "nbconvert_exporter": "python",
   "pygments_lexer": "ipython3",
   "version": "3.12.4"
  }
 },
 "nbformat": 4,
 "nbformat_minor": 2
}
