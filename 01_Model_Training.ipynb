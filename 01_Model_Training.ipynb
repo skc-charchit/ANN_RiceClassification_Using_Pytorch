{
 "cells": [
  {
   "cell_type": "code",
   "execution_count": 1,
   "metadata": {},
   "outputs": [],
   "source": [
    "#Import Libraries\n",
    "from joblib import Parallel, delayed\n",
    "import pandas as pd\n",
    "import numpy as np\n",
    "from sklearn.model_selection import train_test_split, StratifiedKFold\n",
    "from sklearn.preprocessing import StandardScaler, MinMaxScaler\n",
    "from sklearn.preprocessing import LabelEncoder\n",
    "from sklearn.decomposition import PCA\n",
    "from sklearn.feature_selection import SelectKBest, f_classif, chi2\n",
    "from imblearn.over_sampling import SMOTE\n",
    "from sklearn.linear_model import LogisticRegression\n",
    "from sklearn.discriminant_analysis import QuadraticDiscriminantAnalysis as QDA\n",
    "from sklearn.neural_network import MLPClassifier\n",
    "from sklearn.ensemble import RandomForestClassifier, BaggingClassifier, GradientBoostingClassifier, AdaBoostClassifier\n",
    "from sklearn.svm import SVC\n",
    "from sklearn.neighbors import KNeighborsClassifier\n",
    "import xgboost as XGBClassifierb\n",
    "from sklearn.metrics import classification_report, accuracy_score, roc_auc_score, roc_curve, auc, confusion_matrix,precision_recall_fscore_support\n",
    "import matplotlib.pyplot as plt\n",
    "import seaborn as sns\n",
    "# from scipy.stats import ttest_ind\n",
    "import warnings\n",
    "warnings.filterwarnings(\"ignore\")"
   ]
  },
  {
   "cell_type": "code",
   "execution_count": 2,
   "metadata": {},
   "outputs": [
    {
     "data": {
      "application/vnd.microsoft.datawrangler.viewer.v0+json": {
       "columns": [
        {
         "name": "index",
         "rawType": "int64",
         "type": "integer"
        },
        {
         "name": "id",
         "rawType": "int64",
         "type": "integer"
        },
        {
         "name": "Area",
         "rawType": "int64",
         "type": "integer"
        },
        {
         "name": "MajorAxisLength",
         "rawType": "float64",
         "type": "float"
        },
        {
         "name": "MinorAxisLength",
         "rawType": "float64",
         "type": "float"
        },
        {
         "name": "Eccentricity",
         "rawType": "float64",
         "type": "float"
        },
        {
         "name": "ConvexArea",
         "rawType": "int64",
         "type": "integer"
        },
        {
         "name": "EquivDiameter",
         "rawType": "float64",
         "type": "float"
        },
        {
         "name": "Extent",
         "rawType": "float64",
         "type": "float"
        },
        {
         "name": "Perimeter",
         "rawType": "float64",
         "type": "float"
        },
        {
         "name": "Roundness",
         "rawType": "float64",
         "type": "float"
        },
        {
         "name": "AspectRation",
         "rawType": "float64",
         "type": "float"
        },
        {
         "name": "Class",
         "rawType": "int64",
         "type": "integer"
        }
       ],
       "conversionMethod": "pd.DataFrame",
       "ref": "b20d1148-fa00-4d58-a09a-f5d06dfcfcd2",
       "rows": [
        [
         "0",
         "1",
         "4537",
         "92.2293165",
         "64.01276874",
         "0.7199162256",
         "4677",
         "76.00452496",
         "0.6575362319",
         "273.085",
         "0.7645096145",
         "1.440795615",
         "1"
        ],
        [
         "1",
         "2",
         "2872",
         "74.69188071",
         "51.40045446",
         "0.7255527468",
         "3015",
         "60.47101762",
         "0.7130089374",
         "208.317",
         "0.8316582009",
         "1.453136582",
         "1"
        ],
        [
         "2",
         "3",
         "3048",
         "76.2931638",
         "52.04349114",
         "0.7312109273",
         "3132",
         "62.29634124",
         "0.7591531756",
         "210.012",
         "0.8684335737",
         "1.465950153",
         "1"
        ],
        [
         "3",
         "4",
         "3073",
         "77.03362772",
         "51.92848667",
         "0.7386386945",
         "3157",
         "62.55129991",
         "0.7835288118",
         "210.657",
         "0.8702031163",
         "1.48345605",
         "1"
        ],
        [
         "4",
         "5",
         "3693",
         "85.12478457",
         "56.37402054",
         "0.7492815788",
         "3802",
         "68.5716679",
         "0.769375",
         "230.332",
         "0.8747432792",
         "1.51000024",
         "1"
        ]
       ],
       "shape": {
        "columns": 12,
        "rows": 5
       }
      },
      "text/html": [
       "<div>\n",
       "<style scoped>\n",
       "    .dataframe tbody tr th:only-of-type {\n",
       "        vertical-align: middle;\n",
       "    }\n",
       "\n",
       "    .dataframe tbody tr th {\n",
       "        vertical-align: top;\n",
       "    }\n",
       "\n",
       "    .dataframe thead th {\n",
       "        text-align: right;\n",
       "    }\n",
       "</style>\n",
       "<table border=\"1\" class=\"dataframe\">\n",
       "  <thead>\n",
       "    <tr style=\"text-align: right;\">\n",
       "      <th></th>\n",
       "      <th>id</th>\n",
       "      <th>Area</th>\n",
       "      <th>MajorAxisLength</th>\n",
       "      <th>MinorAxisLength</th>\n",
       "      <th>Eccentricity</th>\n",
       "      <th>ConvexArea</th>\n",
       "      <th>EquivDiameter</th>\n",
       "      <th>Extent</th>\n",
       "      <th>Perimeter</th>\n",
       "      <th>Roundness</th>\n",
       "      <th>AspectRation</th>\n",
       "      <th>Class</th>\n",
       "    </tr>\n",
       "  </thead>\n",
       "  <tbody>\n",
       "    <tr>\n",
       "      <th>0</th>\n",
       "      <td>1</td>\n",
       "      <td>4537</td>\n",
       "      <td>92.229316</td>\n",
       "      <td>64.012769</td>\n",
       "      <td>0.719916</td>\n",
       "      <td>4677</td>\n",
       "      <td>76.004525</td>\n",
       "      <td>0.657536</td>\n",
       "      <td>273.085</td>\n",
       "      <td>0.764510</td>\n",
       "      <td>1.440796</td>\n",
       "      <td>1</td>\n",
       "    </tr>\n",
       "    <tr>\n",
       "      <th>1</th>\n",
       "      <td>2</td>\n",
       "      <td>2872</td>\n",
       "      <td>74.691881</td>\n",
       "      <td>51.400454</td>\n",
       "      <td>0.725553</td>\n",
       "      <td>3015</td>\n",
       "      <td>60.471018</td>\n",
       "      <td>0.713009</td>\n",
       "      <td>208.317</td>\n",
       "      <td>0.831658</td>\n",
       "      <td>1.453137</td>\n",
       "      <td>1</td>\n",
       "    </tr>\n",
       "    <tr>\n",
       "      <th>2</th>\n",
       "      <td>3</td>\n",
       "      <td>3048</td>\n",
       "      <td>76.293164</td>\n",
       "      <td>52.043491</td>\n",
       "      <td>0.731211</td>\n",
       "      <td>3132</td>\n",
       "      <td>62.296341</td>\n",
       "      <td>0.759153</td>\n",
       "      <td>210.012</td>\n",
       "      <td>0.868434</td>\n",
       "      <td>1.465950</td>\n",
       "      <td>1</td>\n",
       "    </tr>\n",
       "    <tr>\n",
       "      <th>3</th>\n",
       "      <td>4</td>\n",
       "      <td>3073</td>\n",
       "      <td>77.033628</td>\n",
       "      <td>51.928487</td>\n",
       "      <td>0.738639</td>\n",
       "      <td>3157</td>\n",
       "      <td>62.551300</td>\n",
       "      <td>0.783529</td>\n",
       "      <td>210.657</td>\n",
       "      <td>0.870203</td>\n",
       "      <td>1.483456</td>\n",
       "      <td>1</td>\n",
       "    </tr>\n",
       "    <tr>\n",
       "      <th>4</th>\n",
       "      <td>5</td>\n",
       "      <td>3693</td>\n",
       "      <td>85.124785</td>\n",
       "      <td>56.374021</td>\n",
       "      <td>0.749282</td>\n",
       "      <td>3802</td>\n",
       "      <td>68.571668</td>\n",
       "      <td>0.769375</td>\n",
       "      <td>230.332</td>\n",
       "      <td>0.874743</td>\n",
       "      <td>1.510000</td>\n",
       "      <td>1</td>\n",
       "    </tr>\n",
       "  </tbody>\n",
       "</table>\n",
       "</div>"
      ],
      "text/plain": [
       "   id  Area  MajorAxisLength  MinorAxisLength  Eccentricity  ConvexArea  \\\n",
       "0   1  4537        92.229316        64.012769      0.719916        4677   \n",
       "1   2  2872        74.691881        51.400454      0.725553        3015   \n",
       "2   3  3048        76.293164        52.043491      0.731211        3132   \n",
       "3   4  3073        77.033628        51.928487      0.738639        3157   \n",
       "4   5  3693        85.124785        56.374021      0.749282        3802   \n",
       "\n",
       "   EquivDiameter    Extent  Perimeter  Roundness  AspectRation  Class  \n",
       "0      76.004525  0.657536    273.085   0.764510      1.440796      1  \n",
       "1      60.471018  0.713009    208.317   0.831658      1.453137      1  \n",
       "2      62.296341  0.759153    210.012   0.868434      1.465950      1  \n",
       "3      62.551300  0.783529    210.657   0.870203      1.483456      1  \n",
       "4      68.571668  0.769375    230.332   0.874743      1.510000      1  "
      ]
     },
     "execution_count": 2,
     "metadata": {},
     "output_type": "execute_result"
    }
   ],
   "source": [
    "df = pd.read_csv(r'D:\\Work_Station\\ANN_RiceClassification_Using_Pytorch\\src\\riceClassification.csv')\n",
    "df.head()"
   ]
  },
  {
   "cell_type": "markdown",
   "metadata": {},
   "source": [
    "Target and Feature Columns"
   ]
  },
  {
   "cell_type": "code",
   "execution_count": 3,
   "metadata": {},
   "outputs": [
    {
     "data": {
      "text/plain": [
       "Class\n",
       "1    9985\n",
       "0    8200\n",
       "Name: count, dtype: int64"
      ]
     },
     "execution_count": 3,
     "metadata": {},
     "output_type": "execute_result"
    }
   ],
   "source": [
    "df.Class.value_counts()"
   ]
  },
  {
   "cell_type": "code",
   "execution_count": 4,
   "metadata": {},
   "outputs": [],
   "source": [
    "X = df.drop('Class', axis=1)\n",
    "y = df['Class']"
   ]
  },
  {
   "cell_type": "markdown",
   "metadata": {},
   "source": [
    "Using SOMTE and Data Split into train, validation, and test sets"
   ]
  },
  {
   "cell_type": "code",
   "execution_count": 6,
   "metadata": {},
   "outputs": [],
   "source": [
    "def split_data_with_smote(X, y, train_size=0.6, val_size=0.2, test_size=0.2):\n",
    "    # Calculate the remaining size after setting the test size\n",
    "    remaining_size = 1 - test_size\n",
    "    \n",
    "    # Split data into training-validation set and test set\n",
    "    X_train_val, X_test, y_train_val, y_test = train_test_split(\n",
    "        X, y, test_size=test_size, random_state=42, stratify=y\n",
    "    )\n",
    "    \n",
    "    # Calculate the validation proportion from the remaining data\n",
    "    val_proportion = val_size / (1 - test_size)\n",
    "    \n",
    "    # Split the training-validation set into training and validation sets\n",
    "    X_train, X_val, y_train, y_val = train_test_split(\n",
    "        X_train_val, y_train_val, test_size=val_proportion, random_state=42, stratify=y_train_val\n",
    "    )\n",
    "    \n",
    "    # Apply SMOTE to the training data only\n",
    "    smote = SMOTE(random_state=42)\n",
    "    X_train_smote, y_train_smote = smote.fit_resample(X_train, y_train)\n",
    "    \n",
    "    return X_train_smote, X_val, X_test, y_train_smote, y_val, y_test\n",
    "\n",
    "# Split the data\n",
    "X_train_smote, X_val, X_test, y_train_smote, y_val, y_test = split_data_with_smote(X, y)"
   ]
  },
  {
   "cell_type": "code",
   "execution_count": 7,
   "metadata": {},
   "outputs": [
    {
     "name": "stdout",
     "output_type": "stream",
     "text": [
      "After applying SMOTE:\n",
      "Training size: 62.22%\n",
      "Validation size: 18.89%\n",
      "Test size: 18.89%\n"
     ]
    }
   ],
   "source": [
    "# Print percentages after SMOTE\n",
    "print(\"After applying SMOTE:\")\n",
    "print(f\"Training size: {len(X_train_smote) / (len(X_train_smote) + len(X_val) + len(X_test)) * 100:.2f}%\")\n",
    "print(f\"Validation size: {len(X_val) / (len(X_train_smote) + len(X_val) + len(X_test)) * 100:.2f}%\")\n",
    "print(f\"Test size: {len(X_test) / (len(X_train_smote) + len(X_val) + len(X_test)) * 100:.2f}%\")\n"
   ]
  },
  {
   "cell_type": "markdown",
   "metadata": {},
   "source": [
    "Feature Scaling using Standard Scalar"
   ]
  },
  {
   "cell_type": "code",
   "execution_count": 8,
   "metadata": {},
   "outputs": [],
   "source": [
    "# Initialize the MinMaxScaler\n",
    "scaler = MinMaxScaler()\n",
    "\n",
    "# Fit the scaler on the SMOTE-transformed training data and transform it\n",
    "X_train_scaled = scaler.fit_transform(X_train_smote)"
   ]
  },
  {
   "cell_type": "code",
   "execution_count": 9,
   "metadata": {},
   "outputs": [],
   "source": [
    "# Transform the validation and test sets using the same scaler\n",
    "X_val_scaled = scaler.transform(X_val)\n",
    "X_test_scaled = scaler.transform(X_test)"
   ]
  },
  {
   "cell_type": "markdown",
   "metadata": {},
   "source": [
    "Model Selection"
   ]
  },
  {
   "cell_type": "code",
   "execution_count": 10,
   "metadata": {},
   "outputs": [],
   "source": [
    "from xgboost import XGBClassifier  # Import XGBClassifier\n",
    "\n",
    "\n",
    "# Define models\n",
    "models = {\n",
    "    \"Logistic Regression\": LogisticRegression(solver='liblinear', random_state=42),\n",
    "    \"Gaussian Discriminant Analysis (GDA)\": QDA(),\n",
    "    \"Feed Forward Neural Network\": MLPClassifier(random_state=42),\n",
    "    \"Random Forest\": RandomForestClassifier(random_state=42),\n",
    "    \"XGBoost\": XGBClassifier(random_state=42) \n",
    "}"
   ]
  },
  {
   "cell_type": "markdown",
   "metadata": {},
   "source": [
    "Evaluating Models"
   ]
  },
  {
   "cell_type": "code",
   "execution_count": 11,
   "metadata": {},
   "outputs": [],
   "source": [
    "def evaluate_model(name, model, X_val_scaled, y_val):\n",
    "    # Fit the model\n",
    "    model.fit(X_train_scaled, y_train_smote)\n",
    "    \n",
    "    # Predict on validation set\n",
    "    y_val_pred = model.predict(X_val_scaled)\n",
    "    \n",
    "    # Calculate probabilities if the model supports it\n",
    "    y_val_proba = None\n",
    "    if hasattr(model, \"predict_proba\"):\n",
    "        y_val_proba = model.predict_proba(X_val_scaled)\n",
    "    \n",
    "    # Classification report\n",
    "    report = classification_report(y_val, y_val_pred, output_dict=True)\n",
    "    \n",
    "    # Precision, Recall, F1-Score\n",
    "    precision, recall, f1, _ = precision_recall_fscore_support(y_val, y_val_pred, average='weighted')\n",
    "    \n",
    "    # AUC ROC Score\n",
    "    auc_roc = None\n",
    "    if y_val_proba is not None:\n",
    "        try:\n",
    "            auc_roc = roc_auc_score(y_val, y_val_proba, multi_class='ovr')\n",
    "        except ValueError:\n",
    "            auc_roc = None  # Handle models that don't support probability prediction\n",
    "    \n",
    "    # Confusion Matrix\n",
    "    conf_matrix = confusion_matrix(y_val, y_val_pred)\n",
    "    \n",
    "    return {\n",
    "        'Model': name,\n",
    "        'Precision': precision,\n",
    "        'Recall': recall,\n",
    "        'F1 Score': f1,\n",
    "        'AUC ROC': auc_roc,\n",
    "        'Classification Report': report,\n",
    "        'Confusion Matrix': conf_matrix\n",
    "    }"
   ]
  },
  {
   "cell_type": "code",
   "execution_count": 12,
   "metadata": {},
   "outputs": [
    {
     "name": "stdout",
     "output_type": "stream",
     "text": [
      "Evaluating Logistic Regression...\n",
      "Results for Logistic Regression:\n",
      "Precision: 0.9997252156680014\n",
      "Recall: 0.9997250481165796\n",
      "F1 Score: 0.9997250555879653\n",
      "AUC ROC: None\n",
      "Confusion Matrix:\n",
      "[[1640    0]\n",
      " [   1 1996]]\n",
      "Classification Report:\n",
      "{'0': {'precision': 0.9993906154783668, 'recall': 1.0, 'f1-score': 0.9996952148735142, 'support': 1640.0}, '1': {'precision': 1.0, 'recall': 0.99949924887331, 'f1-score': 0.9997495617330328, 'support': 1997.0}, 'accuracy': 0.9997250481165796, 'macro avg': {'precision': 0.9996953077391835, 'recall': 0.999749624436655, 'f1-score': 0.9997223883032735, 'support': 3637.0}, 'weighted avg': {'precision': 0.9997252156680014, 'recall': 0.9997250481165796, 'f1-score': 0.9997250555879653, 'support': 3637.0}}\n",
      "\n",
      "================================================================================================================================ \n",
      "\n",
      "Evaluating Gaussian Discriminant Analysis (GDA)...\n",
      "Results for Gaussian Discriminant Analysis (GDA):\n",
      "Precision: 0.9994500962331592\n",
      "Recall: 0.9994500962331592\n",
      "F1 Score: 0.9994500962331592\n",
      "AUC ROC: None\n",
      "Confusion Matrix:\n",
      "[[1639    1]\n",
      " [   1 1996]]\n",
      "Classification Report:\n",
      "{'0': {'precision': 0.999390243902439, 'recall': 0.999390243902439, 'f1-score': 0.999390243902439, 'support': 1640.0}, '1': {'precision': 0.99949924887331, 'recall': 0.99949924887331, 'f1-score': 0.99949924887331, 'support': 1997.0}, 'accuracy': 0.9994500962331592, 'macro avg': {'precision': 0.9994447463878745, 'recall': 0.9994447463878745, 'f1-score': 0.9994447463878745, 'support': 3637.0}, 'weighted avg': {'precision': 0.9994500962331592, 'recall': 0.9994500962331592, 'f1-score': 0.9994500962331592, 'support': 3637.0}}\n",
      "\n",
      "================================================================================================================================ \n",
      "\n",
      "Evaluating Feed Forward Neural Network...\n",
      "Results for Feed Forward Neural Network:\n",
      "Precision: 0.9997252156680014\n",
      "Recall: 0.9997250481165796\n",
      "F1 Score: 0.9997250555879653\n",
      "AUC ROC: None\n",
      "Confusion Matrix:\n",
      "[[1640    0]\n",
      " [   1 1996]]\n",
      "Classification Report:\n",
      "{'0': {'precision': 0.9993906154783668, 'recall': 1.0, 'f1-score': 0.9996952148735142, 'support': 1640.0}, '1': {'precision': 1.0, 'recall': 0.99949924887331, 'f1-score': 0.9997495617330328, 'support': 1997.0}, 'accuracy': 0.9997250481165796, 'macro avg': {'precision': 0.9996953077391835, 'recall': 0.999749624436655, 'f1-score': 0.9997223883032735, 'support': 3637.0}, 'weighted avg': {'precision': 0.9997252156680014, 'recall': 0.9997250481165796, 'f1-score': 0.9997250555879653, 'support': 3637.0}}\n",
      "\n",
      "================================================================================================================================ \n",
      "\n",
      "Evaluating Random Forest...\n",
      "Results for Random Forest:\n",
      "Precision: 1.0\n",
      "Recall: 1.0\n",
      "F1 Score: 1.0\n",
      "AUC ROC: None\n",
      "Confusion Matrix:\n",
      "[[1640    0]\n",
      " [   0 1997]]\n",
      "Classification Report:\n",
      "{'0': {'precision': 1.0, 'recall': 1.0, 'f1-score': 1.0, 'support': 1640.0}, '1': {'precision': 1.0, 'recall': 1.0, 'f1-score': 1.0, 'support': 1997.0}, 'accuracy': 1.0, 'macro avg': {'precision': 1.0, 'recall': 1.0, 'f1-score': 1.0, 'support': 3637.0}, 'weighted avg': {'precision': 1.0, 'recall': 1.0, 'f1-score': 1.0, 'support': 3637.0}}\n",
      "\n",
      "================================================================================================================================ \n",
      "\n",
      "Evaluating XGBoost...\n",
      "Results for XGBoost:\n",
      "Precision: 1.0\n",
      "Recall: 1.0\n",
      "F1 Score: 1.0\n",
      "AUC ROC: None\n",
      "Confusion Matrix:\n",
      "[[1640    0]\n",
      " [   0 1997]]\n",
      "Classification Report:\n",
      "{'0': {'precision': 1.0, 'recall': 1.0, 'f1-score': 1.0, 'support': 1640.0}, '1': {'precision': 1.0, 'recall': 1.0, 'f1-score': 1.0, 'support': 1997.0}, 'accuracy': 1.0, 'macro avg': {'precision': 1.0, 'recall': 1.0, 'f1-score': 1.0, 'support': 3637.0}, 'weighted avg': {'precision': 1.0, 'recall': 1.0, 'f1-score': 1.0, 'support': 3637.0}}\n",
      "\n",
      "================================================================================================================================ \n",
      "\n"
     ]
    }
   ],
   "source": [
    "results = []\n",
    "for name, model in models.items():\n",
    "    print(f\"Evaluating {name}...\")\n",
    "    result = evaluate_model(name, model, X_val_scaled, y_val)\n",
    "    results.append(result)\n",
    "    print(f\"Results for {name}:\")\n",
    "    print(f\"Precision: {result['Precision']}\")\n",
    "    print(f\"Recall: {result['Recall']}\")\n",
    "    print(f\"F1 Score: {result['F1 Score']}\")\n",
    "    print(f\"AUC ROC: {result['AUC ROC']}\")\n",
    "    print(f\"Confusion Matrix:\\n{result['Confusion Matrix']}\")\n",
    "    print(f\"Classification Report:\\n{result['Classification Report']}\\n\")\n",
    "    print(\"================================================================================================================================ \\n\")"
   ]
  },
  {
   "cell_type": "code",
   "execution_count": 13,
   "metadata": {},
   "outputs": [
    {
     "name": "stdout",
     "output_type": "stream",
     "text": [
      "                             Model Name  Precision    Recall  F1 Score AUC ROC\n",
      "0                   Logistic Regression   0.999725  0.999725  0.999725    None\n",
      "1  Gaussian Discriminant Analysis (GDA)   0.999450  0.999450  0.999450    None\n",
      "2           Feed Forward Neural Network   0.999725  0.999725  0.999725    None\n",
      "3                         Random Forest   1.000000  1.000000  1.000000    None\n",
      "4                               XGBoost   1.000000  1.000000  1.000000    None\n"
     ]
    }
   ],
   "source": [
    "# Extract model names and their corresponding metrics\n",
    "model_names = [result['Model'] for result in results]\n",
    "precisions = [result['Precision'] for result in results]\n",
    "recalls = [result['Recall'] for result in results]\n",
    "f1_scores = [result['F1 Score'] for result in results]\n",
    "auc_roc_scores = [result['AUC ROC'] for result in results]\n",
    "\n",
    "# Create a DataFrame to include all performance metrics\n",
    "results_df = pd.DataFrame({\n",
    "    'Model Name': model_names,\n",
    "    'Precision': precisions,\n",
    "    'Recall': recalls,\n",
    "    'F1 Score': f1_scores,\n",
    "    'AUC ROC': auc_roc_scores\n",
    "}).sort_values(by=[\"AUC ROC\"], ascending=False)\n",
    "\n",
    "# Print the sorted DataFrame\n",
    "print(results_df)"
   ]
  },
  {
   "cell_type": "markdown",
   "metadata": {},
   "source": [
    "We chose GDA for the Tesing Phase as it gives more accurate results."
   ]
  },
  {
   "cell_type": "code",
   "execution_count": 14,
   "metadata": {},
   "outputs": [
    {
     "name": "stdout",
     "output_type": "stream",
     "text": [
      "AUC ROC could not be calculated for the test set.\n",
      "Classification Report for Test Set:\n",
      "\n",
      "              precision    recall  f1-score   support\n",
      "\n",
      "           0       1.00      1.00      1.00      1640\n",
      "           1       1.00      1.00      1.00      1997\n",
      "\n",
      "    accuracy                           1.00      3637\n",
      "   macro avg       1.00      1.00      1.00      3637\n",
      "weighted avg       1.00      1.00      1.00      3637\n",
      "\n",
      "\n",
      "Confusion Matrix for Test Set:\n",
      " [[1640    0]\n",
      " [   0 1997]]\n"
     ]
    }
   ],
   "source": [
    "from sklearn.discriminant_analysis import QuadraticDiscriminantAnalysis as QDA\n",
    "from sklearn.metrics import classification_report, roc_auc_score, confusion_matrix\n",
    "\n",
    "# Define the Gaussian Discriminant Analysis (GDA) model\n",
    "best_model = QDA()\n",
    "\n",
    "# Fit the model on the training set\n",
    "best_model.fit(X_train_scaled, y_train_smote)\n",
    "\n",
    "# Predict on the test set\n",
    "y_test_pred = best_model.predict(X_test_scaled)\n",
    "\n",
    "# Predict probabilities for ROC AUC curve\n",
    "try:\n",
    "    y_test_proba = best_model.predict_proba(X_test_scaled)\n",
    "    # Calculate AUC ROC for the test set\n",
    "    auc_roc_test = roc_auc_score(y_test, y_test_proba, multi_class='ovr')\n",
    "    print(f\"AUC ROC Score for Test Set: {auc_roc_test:.4f}\")\n",
    "except (ValueError, AttributeError):\n",
    "    # Handle models that don't support probability prediction\n",
    "    auc_roc_test = None\n",
    "    print(\"AUC ROC could not be calculated for the test set.\")\n",
    "\n",
    "# Evaluate the model on the test set\n",
    "test_report = classification_report(y_test, y_test_pred)\n",
    "print(\"Classification Report for Test Set:\\n\")\n",
    "print(test_report)\n",
    "\n",
    "# Confusion Matrix\n",
    "conf_matrix_test = confusion_matrix(y_test, y_test_pred)\n",
    "print(\"\\nConfusion Matrix for Test Set:\\n\", conf_matrix_test)\n"
   ]
  },
  {
   "cell_type": "markdown",
   "metadata": {},
   "source": [
    "Visualization of the Best Model's Performance"
   ]
  },
  {
   "cell_type": "code",
   "execution_count": 15,
   "metadata": {},
   "outputs": [
    {
     "data": {
      "image/png": "[encoded data removed]",
      "text/plain": [
       "<Figure size 800x600 with 2 Axes>"
      ]
     },
     "metadata": {},
     "output_type": "display_data"
    },
    {
     "data": {
      "image/png": "[encoded data removed]",
      "text/plain": [
       "<Figure size 1000x800 with 1 Axes>"
      ]
     },
     "metadata": {},
     "output_type": "display_data"
    }
   ],
   "source": [
    "# Visualization of the Confusion Matrix\n",
    "plt.figure(figsize=(8, 6))\n",
    "sns.heatmap(conf_matrix_test, annot=True, fmt='d', cmap='Blues', \n",
    "            xticklabels=best_model.classes_, yticklabels=best_model.classes_)\n",
    "plt.xlabel('Predicted')\n",
    "plt.ylabel('True')\n",
    "plt.title('Confusion Matrix for Test Set')\n",
    "plt.show()\n",
    "\n",
    "# ROC Curve Visualization\n",
    "n_classes = y_test_proba.shape[1]\n",
    "fpr = {}\n",
    "tpr = {}\n",
    "roc_auc = {}\n",
    "\n",
    "for i in range(n_classes):\n",
    "    fpr[i], tpr[i], _ = roc_curve(y_test == i, y_test_proba[:, i])\n",
    "    roc_auc[i] = auc(fpr[i], tpr[i])\n",
    "\n",
    "plt.figure(figsize=(10, 8))\n",
    "for i in range(n_classes):\n",
    "    plt.plot(fpr[i], tpr[i], label=f'Class {i} (area = {roc_auc[i]:.2f})')\n",
    "\n",
    "plt.plot([0, 1], [0, 1], 'k--', lw=2)\n",
    "plt.xlim([0.0, 1.0])\n",
    "plt.ylim([0.0, 1.05])\n",
    "plt.xlabel('False Positive Rate')\n",
    "plt.ylabel('True Positive Rate')\n",
    "plt.title('Receiver Operating Characteristic (ROC) Curve')\n",
    "plt.legend(loc='lower right')\n",
    "plt.show()"
   ]
  },
  {
   "cell_type": "markdown",
   "metadata": {},
   "source": [
    "Saving the best model"
   ]
  },
  {
   "cell_type": "code",
   "execution_count": 16,
   "metadata": {},
   "outputs": [
    {
     "name": "stdout",
     "output_type": "stream",
     "text": [
      "Model saved to best_model.pkl\n",
      "Scaler saved to scaler.pkl\n"
     ]
    }
   ],
   "source": [
    "import pickle\n",
    "\n",
    "# Define the filenames\n",
    "model_filename = 'best_model.pkl'\n",
    "scaler_filename = 'scaler.pkl'\n",
    "\n",
    "# Save the model to a pickle file\n",
    "with open(model_filename, 'wb') as file:\n",
    "    pickle.dump(best_model, file)\n",
    "\n",
    "# Save the scaler to a pickle file\n",
    "with open(scaler_filename, 'wb') as file:\n",
    "    pickle.dump(scaler, file)\n",
    "\n",
    "print(f\"Model saved to {model_filename}\")\n",
    "print(f\"Scaler saved to {scaler_filename}\")\n"
   ]
  },
  {
   "cell_type": "code",
   "execution_count": 17,
   "metadata": {},
   "outputs": [],
   "source": [
    "with open(model_filename, 'rb') as file:\n",
    "    loaded_model = pickle.load(file)\n",
    "\n",
    "with open(scaler_filename, 'rb') as file:\n",
    "    loaded_scaler = pickle.load(file)"
   ]
  },
  {
   "cell_type": "markdown",
   "metadata": {},
   "source": [
    "### Predicting the model locally"
   ]
  },
  {
   "cell_type": "code",
   "execution_count": 18,
   "metadata": {},
   "outputs": [],
   "source": [
    "# Function to make predictions\n",
    "def make_prediction(model, scaler, input_data):\n",
    "    # Convert input data to a numpy array and reshape\n",
    "    input_data_as_numpy_array = np.asarray(input_data)\n",
    "    input_data_reshaped = input_data_as_numpy_array.reshape(1, -1)\n",
    "\n",
    "    # Scale the input data using the loaded scaler\n",
    "    scaled_data = scaler.transform(input_data_reshaped)\n",
    "    print(f'Scaled input data: {scaled_data}')\n",
    "\n",
    "    # Make prediction\n",
    "    prediction = model.predict(scaled_data)\n",
    "    print(f'Prediction: {prediction}')\n",
    "\n",
    "    # Interpret the prediction based on your model's output\n",
    "    # For example, if it's a binary classification model:\n",
    "    if prediction[0] == 0:\n",
    "        print('Prediction result: Class 0')\n",
    "    else:\n",
    "        print('Prediction result: Class 1')"
   ]
  },
  {
   "cell_type": "code",
   "execution_count": 19,
   "metadata": {},
   "outputs": [
    {
     "name": "stdout",
     "output_type": "stream",
     "text": [
      "Scaled input data: [[0.17289925 0.40608741 0.27079079 0.74699879 0.23860525 0.41542659\n",
      "  0.4900504  0.57369638 0.30395896 0.88851139 0.05531827]]\n",
      "Prediction: [0]\n",
      "Prediction result: Class 0\n"
     ]
    }
   ],
   "source": [
    "# Example input data (replace with your actual features)\n",
    "# Assuming your features are: id, Area, MajorAxisLength, MinorAxisLength, Eccentricity,\n",
    "# ConvexArea, EquivDiameter, Extent, Perimeter, Roundness, AspectRation\n",
    "input_data1 = (3145, 5644, 105.7856, 70.42822, 0.74616, 5929, 84.771, 0.672, 291.697, 0.833, 1.50)\n",
    "make_prediction(loaded_model, loaded_scaler, input_data1)\n"
   ]
  },
  {
   "cell_type": "code",
   "execution_count": 20,
   "metadata": {},
   "outputs": [
    {
     "name": "stdout",
     "output_type": "stream",
     "text": [
      "Scaled input data: [[ 5.49934008e-05 -3.26092612e-01 -6.69006358e-01 -6.82319259e-01\n",
      "  -2.65830668e-01 -3.17584325e-01 -9.00902304e-01  1.02667601e+00\n",
      "  -5.52222179e-01  1.07189285e+00  5.53182688e-02]]\n",
      "Prediction: [1]\n",
      "Prediction result: Class 1\n"
     ]
    }
   ],
   "source": [
    "\n",
    "input_data2 = (2, 15.0, 6.0, 4.0, 0.6, 18.0, 5.0, 0.9, 25.0, 0.95, 1.5)\n",
    "make_prediction(loaded_model, loaded_scaler, input_data2)"
   ]
  }
 ],
 "metadata": {
  "kernelspec": {
   "display_name": "ollama",
   "language": "python",
   "name": "python3"
  },
  "language_info": {
   "codemirror_mode": {
    "name": "ipython",
    "version": 3
   },
   "file_extension": ".py",
   "mimetype": "text/x-python",
   "name": "python",
   "nbconvert_exporter": "python",
   "pygments_lexer": "ipython3",
   "version": "3.9.21"
  }
 },
 "nbformat": 4,
 "nbformat_minor": 2
}
